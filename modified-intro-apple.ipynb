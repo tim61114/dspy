{
 "cells": [
  {
   "cell_type": "markdown",
   "metadata": {},
   "source": [
    "<img src=\"docs/images/DSPy8.png\" alt=\"DSPy7 Image\" height=\"150\"/>\n",
    "\n",
    "## **DSPy**: Programming with Foundation Models\n",
    "\n",
    "[<img align=\"center\" src=\"https://colab.research.google.com/assets/colab-badge.svg\" />](https://colab.research.google.com/github/stanfordnlp/dspy/blob/main/intro.ipynb)"
   ]
  },
  {
   "cell_type": "markdown",
   "metadata": {},
   "source": [
    "This notebook introduces the **DSPy** framework for **Programming with Foundation Models**, i.e., language models (LMs) and retrieval models (RMs).\n",
    "\n",
    "**DSPy** emphasizes programming over prompting. It unifies techniques for **prompting** and **fine-tuning** LMs as well as improving them with **reasoning** and **tool/retrieval augmentation**, all expressed through a _minimalistic set of Pythonic operations that compose and learn_.\n",
    "\n",
    "**DSPy** provides **composable and declarative modules** for instructing LMs in a familiar Pythonic syntax. On top of that, **DSPy** introduces an **automatic compiler that teaches LMs** how to conduct the declarative steps in your program. The **DSPy compiler** will internally _trace_ your program and then **craft high-quality prompts for large LMs (or train automatic finetunes for small LMs)** to teach them the steps of your task."
   ]
  },
  {
   "cell_type": "markdown",
   "metadata": {},
   "source": [
    "### 0] Setting Up\n",
    "\n",
    "As we'll start to see below, **DSPy** can routinely teach powerful models like `GPT-3.5` and local models like `T5-base` or `Llama2-13b` to be much more reliable at complex tasks. **DSPy** will compile the _same program_ into different few-shot prompts and/or finetunes for each LM.\n",
    "\n",
    "Let's begin by setting things up. The snippet below will also install **DSPy** if it's not there already."
   ]
  },
  {
   "cell_type": "code",
   "execution_count": 1,
   "metadata": {
    "ExecuteTime": {
     "end_time": "2024-03-13T21:26:49.356863Z",
     "start_time": "2024-03-13T21:26:49.321172Z"
    },
    "collapsed": false,
    "jupyter": {
     "outputs_hidden": false
    }
   },
   "outputs": [],
   "source": [
    "import openai\n",
    "import os\n",
    "\n",
    "openai_api_key = os.environ.get('OPENAI_API_KEY')"
   ]
  },
  {
   "cell_type": "code",
   "execution_count": 2,
   "metadata": {
    "ExecuteTime": {
     "end_time": "2024-03-13T21:26:49.461843Z",
     "start_time": "2024-03-13T21:26:49.425420Z"
    },
    "tags": []
   },
   "outputs": [],
   "source": [
    "%load_ext autoreload\n",
    "%autoreload 2\n",
    "\n",
    "import sys\n",
    "import os\n",
    "\n",
    "# try: # When on google Colab, let's clone the notebook so we download the cache.\n",
    "#     import google.colab\n",
    "#     repo_path = 'dspy'\n",
    "#     !git -C $repo_path pull origin || git clone https://github.com/stanfordnlp/dspy $repo_path\n",
    "# except:\n",
    "#     repo_path = '.'\n",
    "# \n",
    "# if repo_path not in sys.path:\n",
    "#     sys.path.append(repo_path)\n",
    "# \n",
    "# # Set up the cache for this notebook\n",
    "# os.environ[\"DSP_NOTEBOOK_CACHEDIR\"] = os.path.join(repo_path, 'cache')\n",
    "# \n",
    "# import pkg_resources # Install the package if it's not installed\n",
    "# if not \"dspy-ai\" in {pkg.key for pkg in pkg_resources.working_set}:\n",
    "#     !pip install -U pip\n",
    "#     !pip install dspy-ai\n",
    "#     !pip install openai~=0.28.1\n",
    "#     # !pip install -e $repo_path\n",
    "\n",
    "from dspy import dspy\n",
    "from dspy.retrieve.pinecone_rm import PineconeRM"
   ]
  },
  {
   "cell_type": "markdown",
   "metadata": {},
   "source": [
    "### 1] Getting Started\n",
    "\n",
    "We'll start by setting up the language model (LM) and retrieval model (RM). **DSPy** supports multiple API and local models. In this notebook, we'll work with GPT-3.5 (`gpt-3.5-turbo`) and the retriever `ColBERTv2`.\n",
    "\n",
    "To make things easy, we've set up a ColBERTv2 server hosting a Wikipedia 2017 \"abstracts\" search index (i.e., containing first paragraph of each article from this [2017 dump](https://hotpotqa.github.io/wiki-readme.html)), so you don't need to worry about setting one up! It's free.\n",
    "\n",
    "**Note:** _If you want to run this notebook without changing the examples, you don't need an API key. All examples are already cached internally so you can inspect them!_"
   ]
  },
  {
   "cell_type": "code",
   "execution_count": 3,
   "metadata": {
    "ExecuteTime": {
     "end_time": "2024-03-13T21:26:49.635148Z",
     "start_time": "2024-03-13T21:26:49.465014Z"
    }
   },
   "outputs": [],
   "source": [
    "from dspy.retrieve.pinecone_rm import OpenAIEmbed\n",
    "\n",
    "turbo = dspy.OpenAI(model='gpt-3.5-turbo')\n",
    "# colbertv2_wiki17_abstracts = dspy.ColBERTv2(url='http://20.102.90.50:2017/wiki17_abstracts')\n",
    "\n",
    "pinecone_index_name = \"apple-index\"\n",
    "pinecone_api_key = os.environ.get('PINECONE_API_KEY')\n",
    "pinecone_env = \"us-east-1-aws\"\n",
    "retriever_model = PineconeRM(pinecone_index_name, \n",
    "                             pinecone_api_key, \n",
    "                             None, \n",
    "                             OpenAIEmbed(api_key=openai_api_key),\n",
    "                             3\n",
    "                             )\n",
    "dspy.settings.configure(lm=turbo, rm=retriever_model)"
   ]
  },
  {
   "cell_type": "markdown",
   "metadata": {},
   "source": [
    "In the last line above, we configure **DSPy** to use the turbo LM and the ColBERTv2 retriever (over Wikipedia 2017 abstracts) by default. This will be easy to overwrite for local parts of our programs if needed."
   ]
  },
  {
   "cell_type": "markdown",
   "metadata": {},
   "source": [
    "##### A word on the workflow"
   ]
  },
  {
   "cell_type": "markdown",
   "metadata": {},
   "source": [
    "You can build your own **DSPy programs** for various tasks, e.g., question answering, information extraction, or text-to-SQL.\n",
    "\n",
    "Whatever the task, the general workflow is:\n",
    "\n",
    "1. **Collect a little bit of data.** Define examples of the inputs and outputs of your program (e.g., questions and their answers). This could just be a handful of quick examples you wrote down. If large datasets exist, the more the merrier!\n",
    "1. **Write your program.** Define the modules (i.e., sub-tasks) of your program and the way they should interact together to solve your task.\n",
    "1. **Define some validation logic.** What makes for a good run of your program? Maybe the answers need to have a certain length or stick to a particular format? Specify the logic that checks that.\n",
    "1. **Compile!** Ask **DSPy** to _compile_ your program using your data. The compiler will use your data and validation logic to optimize your program (e.g., prompts and modules) so it's efficient and effective!\n",
    "1. **Iterate.** Repeat the process by improving your data, program, validation, or by using more advanced features of the **DSPy** compiler.\n",
    "\n",
    "Let's now see this in action."
   ]
  },
  {
   "cell_type": "markdown",
   "metadata": {},
   "source": [
    "### 2] Task Examples\n",
    "\n",
    "**DSPy** accommodates a wide variety of applications and tasks. **In this intro notebook, we will work on the example task of multi-hop question answering (QA).**\n",
    "\n",
    "Other notebooks and tutorials will present different tasks. Now, let us load a tiny sample from the HotPotQA multi-hop dataset."
   ]
  },
  {
   "cell_type": "code",
   "execution_count": 4,
   "metadata": {
    "ExecuteTime": {
     "end_time": "2024-03-13T21:27:03.344877Z",
     "start_time": "2024-03-13T21:26:49.637453Z"
    }
   },
   "outputs": [],
   "source": [
    "# from dspy.datasets import HotPotQA\n",
    "\n",
    "# # Load the dataset.\n",
    "# dataset = HotPotQA(train_seed=1, train_size=20, eval_seed=2023, dev_size=50, test_size=0)\n",
    "\n",
    "# # Tell DSPy that the 'question' field is the input. Any other fields are labels and/or metadata.\n",
    "# trainset = [x.with_inputs('question') for x in dataset.train]\n",
    "# devset = [x.with_inputs('question') for x in dataset.dev]\n",
    "\n",
    "# len(trainset), len(devset)"
   ]
  },
  {
   "cell_type": "code",
   "execution_count": 5,
   "metadata": {
    "ExecuteTime": {
     "end_time": "2024-03-13T21:27:03.386558Z",
     "start_time": "2024-03-13T21:27:03.346515Z"
    },
    "collapsed": false,
    "jupyter": {
     "outputs_hidden": false
    }
   },
   "outputs": [],
   "source": [
    "def load_data(filename: str) -> list[dspy.Example]:\n",
    "    data_set = []\n",
    "    with open(filename, 'r') as file:\n",
    "        for line in file:\n",
    "          line = line.rstrip('\\n')  # Remove trailing newline\n",
    "    \n",
    "          # Identify question or answer line\n",
    "          if line.startswith(\"Q:\"):\n",
    "            # Start a new question\n",
    "            current_question = line.replace(\"Q:\", \"\").strip()  # Extract and clean question\n",
    "          elif line.startswith(\"A:\"):\n",
    "            if current_question is not None:\n",
    "              # Add the completed question-answer pair\n",
    "              data_set.append(dspy.Example(\n",
    "                  question=current_question,\n",
    "                  answer=line.replace(\"A:\", \"\").strip()\n",
    "              ).with_inputs('question'))\n",
    "              current_question = None  # Reset for next question\n",
    "          else:\n",
    "            # Handle potential continuation lines within questions or answers (optional)\n",
    "            if current_question is not None:\n",
    "              current_question += \" \" + line  # Append continuation line if current question\n",
    "    \n",
    "            \n",
    "    return data_set"
   ]
  },
  {
   "cell_type": "code",
   "execution_count": 6,
   "metadata": {
    "ExecuteTime": {
     "end_time": "2024-03-13T21:27:03.409410Z",
     "start_time": "2024-03-13T21:27:03.388682Z"
    },
    "collapsed": false,
    "jupyter": {
     "outputs_hidden": false
    }
   },
   "outputs": [
    {
     "name": "stdout",
     "output_type": "stream",
     "text": [
      "[Example({'question': 'What is the primary business of Apple Inc.?', 'answer': 'Designing, manufacturing, and marketing electronic devices, including smartphones, computers, and tablets.'}) (input_keys={'question'}), Example({'question': 'How does Apple manage its business segments?', 'answer': 'Geographically, with segments including the Americas, Europe, Greater China, Japan, and Rest of Asia Pacific.'}) (input_keys={'question'}), Example({'question': \"What are the key components of Apple's competitive strategy?\", 'answer': 'Innovation, product quality, strong ecosystem, marketing, distribution, and service and support offerings.'}) (input_keys={'question'})]\n"
     ]
    }
   ],
   "source": [
    "apple_example_set = load_data('apple-test.txt')\n",
    "print(apple_example_set[:3])"
   ]
  },
  {
   "cell_type": "markdown",
   "metadata": {},
   "source": [
    "We just loaded `trainset` (20 examples) and `devset` (50 examples). Each example in our **training set** contains just a **question** and its (human-annotated) **answer**.\n",
    "\n",
    "**DSPy** typically requires very minimal labeling. Whereas your pipeline may involve six or seven complex steps, you only need labels for the initial question and the final answer. **DSPy** will bootstrap any intermediate labels needed to support your pipeline. If you change your pipeline in any way, the data bootstrapped will change accordingly!\n",
    "\n",
    "Now, let's look at some data examples."
   ]
  },
  {
   "cell_type": "markdown",
   "metadata": {},
   "source": [
    "Examples in the **dev set** contain a third field, namely, **titles** of relevant Wikipedia articles. This is not essential but, for the sake of this intro, it'll help us get a sense of how well our programs are doing."
   ]
  },
  {
   "cell_type": "code",
   "execution_count": 7,
   "metadata": {
    "ExecuteTime": {
     "end_time": "2024-03-13T21:27:03.429305Z",
     "start_time": "2024-03-13T21:27:03.410534Z"
    }
   },
   "outputs": [
    {
     "name": "stdout",
     "output_type": "stream",
     "text": [
      "Question: How does Apple manage its business segments?\n",
      "Answer: Geographically, with segments including the Americas, Europe, Greater China, Japan, and Rest of Asia Pacific.\n"
     ]
    }
   ],
   "source": [
    "dev_example = apple_example_set[1]\n",
    "print(f\"Question: {dev_example.question}\")\n",
    "print(f\"Answer: {dev_example.answer}\")\n",
    "# print(f\"Relevant Wikipedia Titles: {dev_example.gold_titles}\")"
   ]
  },
  {
   "cell_type": "markdown",
   "metadata": {},
   "source": [
    "After loading the raw data, we'd applied `x.with_inputs('question')` to each example to tell **DSPy** that our input field in each example will be just `question`. Any other fields are labels or metadata that are not given to the system."
   ]
  },
  {
   "cell_type": "code",
   "execution_count": 8,
   "metadata": {
    "ExecuteTime": {
     "end_time": "2024-03-13T21:27:03.449360Z",
     "start_time": "2024-03-13T21:27:03.430690Z"
    }
   },
   "outputs": [],
   "source": [
    "# print(f\"For this dataset, training examples have input keys {apple_example_set.inputs().keys()} and label keys {apple_example_set.labels().keys()}\")\n",
    "# # print(f\"For this dataset, dev examples have input keys {dev_example.inputs().keys()} and label keys {dev_example.labels().keys()}\")"
   ]
  },
  {
   "cell_type": "markdown",
   "metadata": {},
   "source": [
    "Note that there's nothing special about the HotPotQA dataset: it's just a list of examples.\n",
    "\n",
    "You can define your own examples as below. A future notebook will guide you through creating your own data in unusual or data-scarce settings, which is a context where **DSPy** excels.\n",
    "\n",
    "```\n",
    "dspy.Example(field1=value, field2=value2, ...)\n",
    "```"
   ]
  },
  {
   "cell_type": "markdown",
   "metadata": {},
   "source": [
    "### 3] Building Blocks\n",
    "\n",
    "In **DSPy**, we will maintain a clean separation between **defining your modules in a declarative way** and **calling them in a pipeline to solve the task**.\n",
    "\n",
    "This allows you to focus on the information flow of your pipeline. **DSPy** will then take your program and automatically optimize **how to prompt** (or finetune) LMs **for your particular pipeline** so it works well.\n",
    "\n",
    "If you have experience with PyTorch, you can think of DSPy as the PyTorch of the foundation model space. Before we see this in action, let's first understand some key pieces."
   ]
  },
  {
   "cell_type": "markdown",
   "metadata": {},
   "source": [
    "##### Using the Language Model: **Signatures** & **Predictors**\n",
    "\n",
    "Every call to the LM in a **DSPy** program needs to have a **Signature**.\n",
    "\n",
    "A signature consists of three simple elements:\n",
    "\n",
    "- A minimal description of the sub-task the LM is supposed to solve.\n",
    "- A description of one or more input fields (e.g., input question) that we will give to the LM.\n",
    "- A description of one or more output fields (e.g., the question's answer) that we will expect from the LM.\n",
    "\n",
    "Let's define a simple signature for basic question answering."
   ]
  },
  {
   "cell_type": "code",
   "execution_count": 9,
   "metadata": {
    "ExecuteTime": {
     "end_time": "2024-03-13T21:27:03.471766Z",
     "start_time": "2024-03-13T21:27:03.450398Z"
    }
   },
   "outputs": [],
   "source": [
    "class BasicQA(dspy.Signature):\n",
    "    \"\"\"Answer questions with short factoid answers.\"\"\"\n",
    "\n",
    "    question = dspy.InputField()\n",
    "    answer = dspy.OutputField()"
   ]
  },
  {
   "cell_type": "markdown",
   "metadata": {},
   "source": [
    "In `BasicQA`, the docstring describes the sub-task here (i.e., answering questions). Each `InputField` or `OutputField` can optionally contain a description `desc` too. When it's not given, it's inferred from the field's name (e.g., `question`).\n",
    "\n",
    "Notice that there isn't anything special about this signature in **DSPy**. We can just as easily define a signature that takes a long snippet from a PDF and outputs structured information, for instance.\n",
    "\n",
    "Anyway, now that we have a signature, let's define and use a **Predictor**. A predictor is a module that knows how to use the LM to implement a signature. Importantly, predictors can **learn** to fit their behavior to the task!"
   ]
  },
  {
   "cell_type": "code",
   "execution_count": 10,
   "metadata": {
    "ExecuteTime": {
     "end_time": "2024-03-13T21:27:03.498250Z",
     "start_time": "2024-03-13T21:27:03.472838Z"
    }
   },
   "outputs": [
    {
     "name": "stdout",
     "output_type": "stream",
     "text": [
      "Question: How does Apple manage its business segments?\n",
      "Predicted Answer: Apple manages its business segments by dividing them into five categories: iPhone, Mac, iPad, Services, and Wearables/Home/Accessories.\n"
     ]
    }
   ],
   "source": [
    "# Define the predictor.\n",
    "generate_answer = dspy.Predict(BasicQA)\n",
    "\n",
    "# Call the predictor on a particular input.\n",
    "pred = generate_answer(question=dev_example.question)\n",
    "\n",
    "# Print the input and the prediction.\n",
    "print(f\"Question: {dev_example.question}\")\n",
    "print(f\"Predicted Answer: {pred.answer}\")"
   ]
  },
  {
   "cell_type": "markdown",
   "metadata": {},
   "source": [
    "In the example above, we asked the predictor about the the chef featured in \"Restaurant: Impossible\". The model outputs an answer (\"American\").\n",
    "\n",
    "For visibility, we can inspect how this extremely basic predictor implemented our signature. Let's inspect the history of our LM (**turbo**)."
   ]
  },
  {
   "cell_type": "code",
   "execution_count": 11,
   "metadata": {
    "ExecuteTime": {
     "end_time": "2024-03-13T21:27:03.519372Z",
     "start_time": "2024-03-13T21:27:03.500613Z"
    }
   },
   "outputs": [
    {
     "name": "stdout",
     "output_type": "stream",
     "text": [
      "\n",
      "\n",
      "\n",
      "\n",
      "Answer questions with short factoid answers.\n",
      "\n",
      "---\n",
      "\n",
      "Follow the following format.\n",
      "\n",
      "Question: ${question}\n",
      "Answer: ${answer}\n",
      "\n",
      "---\n",
      "\n",
      "Question: How does Apple manage its business segments?\n",
      "Answer:\u001b[32m Apple manages its business segments by dividing them into five categories: iPhone, Mac, iPad, Services, and Wearables/Home/Accessories.\u001b[0m\n",
      "\n",
      "\n",
      "\n"
     ]
    }
   ],
   "source": [
    "turbo.inspect_history(n=1)"
   ]
  },
  {
   "cell_type": "markdown",
   "metadata": {},
   "source": [
    "It happens that this chef is both British and American, but we have no way of knowing if the model just guessed \"American\" because it's a common answer. In general, adding **retrieval** and **learning** will help the LM be more factual, and we'll explore this in a minute!\n",
    "\n",
    "But before we do that, how about we _just_ change the predictor? It would be nice to allow the model to elicit a chain of thought along with the prediction."
   ]
  },
  {
   "cell_type": "code",
   "execution_count": 12,
   "metadata": {
    "ExecuteTime": {
     "end_time": "2024-03-13T21:27:03.556236Z",
     "start_time": "2024-03-13T21:27:03.520831Z"
    }
   },
   "outputs": [
    {
     "name": "stdout",
     "output_type": "stream",
     "text": [
      "Question: How does Apple manage its business segments?\n",
      "Thought: \n",
      "Predicted Answer: Apple manages its business segments by dividing them into products such as iPhone, Mac, iPad, Services, and Wearables.\n"
     ]
    }
   ],
   "source": [
    "# Define the predictor. Notice we're just changing the class. The signature BasicQA is unchanged.\n",
    "generate_answer_with_chain_of_thought = dspy.ChainOfThought(BasicQA)\n",
    "\n",
    "# Call the predictor on the same input.\n",
    "pred = generate_answer_with_chain_of_thought(question=dev_example.question)\n",
    "\n",
    "# Print the input, the chain of thought, and the prediction.\n",
    "print(f\"Question: {dev_example.question}\")\n",
    "print(f\"Thought: {pred.rationale.split('.', 1)[1].strip()}\")\n",
    "print(f\"Predicted Answer: {pred.answer}\")"
   ]
  },
  {
   "cell_type": "markdown",
   "metadata": {},
   "source": [
    "This is indeed a better answer: the model figures out that the chef in question is **Robert Irvine** and correctly identifies that he's British.\n",
    "\n",
    "These predictors (`dspy.Predict` and `dspy.ChainOfThought`) can be applied to _any_ signature. As we'll see below, they can also be optimized to learn from your data and validation logic."
   ]
  },
  {
   "cell_type": "markdown",
   "metadata": {},
   "source": [
    "##### Using the Retrieval Model\n",
    "\n",
    "Using the retriever is pretty simple. A module `dspy.Retrieve(k)` will search for the top-`k` passages that match a given query.\n",
    "\n",
    "By default, this will use the retriever we configured at the top of this notebook, namely, ColBERTv2 over a Wikipedia index."
   ]
  },
  {
   "cell_type": "code",
   "execution_count": 13,
   "metadata": {
    "ExecuteTime": {
     "end_time": "2024-03-13T21:25:16.573295Z",
     "start_time": "2024-03-13T21:25:16.198021Z"
    }
   },
   "outputs": [
    {
     "name": "stdout",
     "output_type": "stream",
     "text": [
      "Prediction(\n",
      "    passages=['Payment Services\\n\\nThe Company offers payment services, including Apple Card®, a co-branded credit card, and Apple Pay®, a cashless payment service.\\n\\nSegments\\n\\nThe Company manages its business primarily on a geographic basis. The Company’s reportable segments consist of the Americas, Europe, Greater China,\\nJapan and Rest of Asia Pacific. Americas includes both North and South America. Europe includes European countries, as well as India, the Middle East and\\nAfrica. Greater China includes China mainland, Hong Kong and Taiwan. Rest of Asia Pacific includes Australia and those Asian countries not included in the\\nCompany’s other reportable segments. Although the reportable segments provide similar hardware and software products and similar services, each one is\\nmanaged separately to better align with the location of the Company’s customers and distribution partners and the unique market dynamics of each geographic\\nregion.\\n\\nMarkets and Distribution', 'The Company also offers digital content through subscription-based services, including Apple Arcade®, a game subscription service; Apple Fitness+SM, a\\npersonalized fitness service; Apple Music®, which offers users a curated listening experience with on-demand radio stations; Apple News+®, a subscription news\\nand magazine service; and Apple TV+®, which offers exclusive original content and live sports.\\n\\nPayment Services\\n\\nThe Company offers payment services, including Apple Card®, a co-branded credit card, and Apple Pay®, a cashless payment service.\\n\\nSegments', 'Substantially all of the Company’s hardware products are manufactured by outsourcing partners that are located primarily in China mainland, India, Japan, South\\nKorea, Taiwan and Vietnam. Apple Inc. | 2023 Form 10-K | 46\\n\\nNote 13 – Segment Information and Geographic Data\\n\\nThe Company manages its business primarily on a geographic basis. The Company’s reportable segments consist of the Americas, Europe, Greater China,\\nJapan and Rest of Asia Pacific. Americas includes both North and South America. Europe includes European countries, as well as India, the Middle East and\\nAfrica. Greater China includes China mainland, Hong Kong and Taiwan. Rest of Asia Pacific includes Australia and those Asian countries not included in the\\nCompany’s other reportable segments.']\n",
      ")\n",
      "Top 3 passages for question: How does Apple manage its business segments? \n",
      " ------------------------------ \n",
      "\n",
      "1] Payment Services\n",
      "\n",
      "The Company offers payment services, including Apple Card®, a co-branded credit card, and Apple Pay®, a cashless payment service.\n",
      "\n",
      "Segments\n",
      "\n",
      "The Company manages its business primarily on a geographic basis. The Company’s reportable segments consist of the Americas, Europe, Greater China,\n",
      "Japan and Rest of Asia Pacific. Americas includes both North and South America. Europe includes European countries, as well as India, the Middle East and\n",
      "Africa. Greater China includes China mainland, Hong Kong and Taiwan. Rest of Asia Pacific includes Australia and those Asian countries not included in the\n",
      "Company’s other reportable segments. Although the reportable segments provide similar hardware and software products and similar services, each one is\n",
      "managed separately to better align with the location of the Company’s customers and distribution partners and the unique market dynamics of each geographic\n",
      "region.\n",
      "\n",
      "Markets and Distribution \n",
      "\n",
      "2] The Company also offers digital content through subscription-based services, including Apple Arcade®, a game subscription service; Apple Fitness+SM, a\n",
      "personalized fitness service; Apple Music®, which offers users a curated listening experience with on-demand radio stations; Apple News+®, a subscription news\n",
      "and magazine service; and Apple TV+®, which offers exclusive original content and live sports.\n",
      "\n",
      "Payment Services\n",
      "\n",
      "The Company offers payment services, including Apple Card®, a co-branded credit card, and Apple Pay®, a cashless payment service.\n",
      "\n",
      "Segments \n",
      "\n",
      "3] Substantially all of the Company’s hardware products are manufactured by outsourcing partners that are located primarily in China mainland, India, Japan, South\n",
      "Korea, Taiwan and Vietnam. Apple Inc. | 2023 Form 10-K | 46\n",
      "\n",
      "Note 13 – Segment Information and Geographic Data\n",
      "\n",
      "The Company manages its business primarily on a geographic basis. The Company’s reportable segments consist of the Americas, Europe, Greater China,\n",
      "Japan and Rest of Asia Pacific. Americas includes both North and South America. Europe includes European countries, as well as India, the Middle East and\n",
      "Africa. Greater China includes China mainland, Hong Kong and Taiwan. Rest of Asia Pacific includes Australia and those Asian countries not included in the\n",
      "Company’s other reportable segments. \n",
      "\n"
     ]
    }
   ],
   "source": [
    "retrieve = dspy.Retrieve(k=3)\n",
    "topK_passages = retrieve(dev_example.question)\n",
    "\n",
    "pppp = retrieve(dev_example.question)\n",
    "print(pppp)\n",
    "print(f\"Top {retrieve.k} passages for question: {dev_example.question} \\n\", '-' * 30, '\\n')\n",
    "for idx, passage in enumerate(pppp.passages):\n",
    "    print(f'{idx+1}]', passage, '\\n')"
   ]
  },
  {
   "cell_type": "markdown",
   "metadata": {},
   "source": [
    "Feel free to any other queries you like."
   ]
  },
  {
   "cell_type": "code",
   "execution_count": null,
   "metadata": {},
   "outputs": [],
   "source": [
    "retrieve(\"When was the first FIFA World Cup held?\").passages[0]"
   ]
  },
  {
   "cell_type": "markdown",
   "metadata": {},
   "source": [
    "### 4] Program 1: Basic Retrieval-Augmented Generation (“RAG”)\n",
    "\n",
    "Let's define our first complete program for this task. We'll build a retrieval-augmented pipeline for answer generation.\n",
    "\n",
    "Given a question, we'll search for the top-3 passages in Wikipedia and then feed them as context for answer generation.\n",
    "\n",
    "Let's start by defining this signature: `context, question --> answer`."
   ]
  },
  {
   "cell_type": "code",
   "execution_count": 16,
   "metadata": {},
   "outputs": [],
   "source": [
    "class GenerateAnswer(dspy.Signature):\n",
    "    \"\"\"Answer questions with short factoid answers.\"\"\"\n",
    "\n",
    "    context = dspy.InputField(desc=\"may contain relevant facts\")\n",
    "    question = dspy.InputField()\n",
    "    answer = dspy.OutputField(desc=\"often between 1 and 5 words\")"
   ]
  },
  {
   "cell_type": "markdown",
   "metadata": {},
   "source": [
    "Great. Now let's define the actual program. This is a class that inherits from `dspy.Module`.\n",
    "\n",
    "It needs two methods:\n",
    "\n",
    "- The `__init__` method will simply declare the sub-modules it needs: `dspy.Retrieve` and `dspy.ChainOfThought`. The latter is defined to implement our `GenerateAnswer` signature.\n",
    "- The `forward` method will describe the control flow of answering the question using the modules we have."
   ]
  },
  {
   "cell_type": "code",
   "execution_count": 17,
   "metadata": {},
   "outputs": [],
   "source": [
    "class RAG(dspy.Module):\n",
    "    def __init__(self, num_passages=3):\n",
    "        super().__init__()\n",
    "\n",
    "        self.retrieve = dspy.Retrieve(k=num_passages)\n",
    "        self.generate_answer = dspy.ChainOfThought(GenerateAnswer)\n",
    "    \n",
    "    def forward(self, question):\n",
    "        context = self.retrieve(question).passages\n",
    "        prediction = self.generate_answer(context=context, question=question)\n",
    "        return dspy.Prediction(context=context, answer=prediction.answer)"
   ]
  },
  {
   "cell_type": "markdown",
   "metadata": {},
   "source": [
    "##### Compiling the RAG program\n",
    "\n",
    "Having defined this program, let's now **compile** it. Compiling a program will update the parameters stored in each module. In our setting, this is primarily in the form of collecting and selecting good demonstrations for inclusion in your prompt(s).\n",
    "\n",
    "Compiling depends on three things:\n",
    "\n",
    "1. **A training set.** We'll just use our 20 question–answer examples from `trainset` above.\n",
    "1. **A metric for validation.** We'll define a quick `validate_context_and_answer` that checks that the predicted answer is correct. It'll also check that the retrieved context does actually contain that answer.\n",
    "1. **A specific teleprompter.** The **DSPy** compiler includes a number of **teleprompters** that can optimize your programs."
   ]
  },
  {
   "cell_type": "markdown",
   "metadata": {},
   "source": [
    "**Teleprompters:** Teleprompters are powerful optimizers that can take any program and learn to bootstrap and select effective prompts for its modules. Hence the name, which means \"prompting at a distance\".\n",
    "\n",
    "Different teleprompters offer various tradeoffs in terms of how much they optimize cost versus quality, etc. We will use a simple default `BootstrapFewShot` in this notebook.\n",
    "\n",
    "\n",
    "_If you're into analogies, you could think of this as your training data, your loss function, and your optimizer in a standard DNN supervised learning setup. Whereas SGD is a basic optimizer, there are more sophisticated (and more expensive!) ones like Adam or RMSProp._"
   ]
  },
  {
   "cell_type": "code",
   "execution_count": 18,
   "metadata": {},
   "outputs": [
    {
     "name": "stderr",
     "output_type": "stream",
     "text": [
      " 10%|███████████████                                                                                                                                        | 1/10 [00:00<00:02,  3.69it/s]"
     ]
    },
    {
     "name": "stdout",
     "output_type": "stream",
     "text": [
      "I'm here[{'long_text': 'Many of the Company’s competitors seek to compete primarily through aggressive pricing and very low cost structures, and by imitating the\\nCompany’s products and infringing on its intellectual property.\\n\\nApple Inc. | 2023 Form 10-K | 2\\n\\nThe Company’s ability to compete successfully depends heavily on ensuring the continuing and timely introduction of innovative new products, services and\\ntechnologies to the marketplace. The Company designs and develops nearly the entire solution for its products, including the hardware, operating system,\\nnumerous software applications and related services. Principal competitive factors important to the Company include price, product and service features\\n(including security features), relative price and performance, product and service quality and reliability, design innovation, a strong third-party software and\\naccessories ecosystem, marketing and distribution capability, service and support, and corporate reputation.'}, {'long_text': 'The offerings provide priority access to Apple technical\\nsupport, access to the global Apple authorized service network for repair and replacement services, and in many cases additional coverage for instances of\\naccidental damage or theft and loss, depending on the country and type of product.\\n\\nCloud Services\\n\\nThe Company’s cloud services store and keep customers’ content up-to-date and available across multiple Apple devices and Windows personal computers.\\n\\nDigital Content\\n\\nThe Company operates various platforms, including the App Store®, that allow customers to discover and download applications and digital content, such as\\nbooks, music, video, games and podcasts.\\n\\nThe Company also offers digital content through subscription-based services, including Apple Arcade®, a game subscription service; Apple Fitness+SM, a\\npersonalized fitness service; Apple Music®, which offers users a curated listening experience with on-demand radio stations; Apple News+®, a subscription news\\nand magazine service; and Apple TV+®, which offers exclusive original content and live sports.\\n\\nPayment Services'}, {'long_text': 'The Company’s products\\nand operating systems are subject to rapid technological change, and when third-party developers are unable to or choose not to keep up with this pace of\\nchange, their applications can fail to take advantage of these changes to deliver improved customer experiences, can operate incorrectly, and can result in\\ndissatisfied customers and lower customer demand for the Company’s products. Apple Inc. | 2023 Form 10-K | 9\\n\\nThe Company distributes third-party applications for its products through the App Store. For the vast majority of applications, developers keep all of the revenue\\nthey generate on the App Store. The Company retains a commission from sales of applications and sales of digital services or goods initiated within an\\napplication. From time to time, the Company has made changes to its App Store, including actions taken in response to competition, market conditions and legal\\nand regulatory requirements.'}]\n",
      "this is retrieve['Many of the Company’s competitors seek to compete primarily through aggressive pricing and very low cost structures, and by imitating the\\nCompany’s products and infringing on its intellectual property.\\n\\nApple Inc. | 2023 Form 10-K | 2\\n\\nThe Company’s ability to compete successfully depends heavily on ensuring the continuing and timely introduction of innovative new products, services and\\ntechnologies to the marketplace. The Company designs and develops nearly the entire solution for its products, including the hardware, operating system,\\nnumerous software applications and related services. Principal competitive factors important to the Company include price, product and service features\\n(including security features), relative price and performance, product and service quality and reliability, design innovation, a strong third-party software and\\naccessories ecosystem, marketing and distribution capability, service and support, and corporate reputation.', 'The offerings provide priority access to Apple technical\\nsupport, access to the global Apple authorized service network for repair and replacement services, and in many cases additional coverage for instances of\\naccidental damage or theft and loss, depending on the country and type of product.\\n\\nCloud Services\\n\\nThe Company’s cloud services store and keep customers’ content up-to-date and available across multiple Apple devices and Windows personal computers.\\n\\nDigital Content\\n\\nThe Company operates various platforms, including the App Store®, that allow customers to discover and download applications and digital content, such as\\nbooks, music, video, games and podcasts.\\n\\nThe Company also offers digital content through subscription-based services, including Apple Arcade®, a game subscription service; Apple Fitness+SM, a\\npersonalized fitness service; Apple Music®, which offers users a curated listening experience with on-demand radio stations; Apple News+®, a subscription news\\nand magazine service; and Apple TV+®, which offers exclusive original content and live sports.\\n\\nPayment Services', 'The Company’s products\\nand operating systems are subject to rapid technological change, and when third-party developers are unable to or choose not to keep up with this pace of\\nchange, their applications can fail to take advantage of these changes to deliver improved customer experiences, can operate incorrectly, and can result in\\ndissatisfied customers and lower customer demand for the Company’s products. Apple Inc. | 2023 Form 10-K | 9\\n\\nThe Company distributes third-party applications for its products through the App Store. For the vast majority of applications, developers keep all of the revenue\\nthey generate on the App Store. The Company retains a commission from sales of applications and sales of digital services or goods initiated within an\\napplication. From time to time, the Company has made changes to its App Store, including actions taken in response to competition, market conditions and legal\\nand regulatory requirements.']\n"
     ]
    },
    {
     "name": "stderr",
     "output_type": "stream",
     "text": [
      " 20%|██████████████████████████████▏                                                                                                                        | 2/10 [00:00<00:03,  2.33it/s]"
     ]
    },
    {
     "name": "stdout",
     "output_type": "stream",
     "text": [
      "I'm here[{'long_text': 'Payment Services\\n\\nThe Company offers payment services, including Apple Card®, a co-branded credit card, and Apple Pay®, a cashless payment service.\\n\\nSegments\\n\\nThe Company manages its business primarily on a geographic basis. The Company’s reportable segments consist of the Americas, Europe, Greater China,\\nJapan and Rest of Asia Pacific. Americas includes both North and South America. Europe includes European countries, as well as India, the Middle East and\\nAfrica. Greater China includes China mainland, Hong Kong and Taiwan. Rest of Asia Pacific includes Australia and those Asian countries not included in the\\nCompany’s other reportable segments. Although the reportable segments provide similar hardware and software products and similar services, each one is\\nmanaged separately to better align with the location of the Company’s customers and distribution partners and the unique market dynamics of each geographic\\nregion.\\n\\nMarkets and Distribution'}, {'long_text': 'The Company also offers digital content through subscription-based services, including Apple Arcade®, a game subscription service; Apple Fitness+SM, a\\npersonalized fitness service; Apple Music®, which offers users a curated listening experience with on-demand radio stations; Apple News+®, a subscription news\\nand magazine service; and Apple TV+®, which offers exclusive original content and live sports.\\n\\nPayment Services\\n\\nThe Company offers payment services, including Apple Card®, a co-branded credit card, and Apple Pay®, a cashless payment service.\\n\\nSegments'}, {'long_text': 'Substantially all of the Company’s hardware products are manufactured by outsourcing partners that are located primarily in China mainland, India, Japan, South\\nKorea, Taiwan and Vietnam. Apple Inc. | 2023 Form 10-K | 46\\n\\nNote 13 – Segment Information and Geographic Data\\n\\nThe Company manages its business primarily on a geographic basis. The Company’s reportable segments consist of the Americas, Europe, Greater China,\\nJapan and Rest of Asia Pacific. Americas includes both North and South America. Europe includes European countries, as well as India, the Middle East and\\nAfrica. Greater China includes China mainland, Hong Kong and Taiwan. Rest of Asia Pacific includes Australia and those Asian countries not included in the\\nCompany’s other reportable segments.'}]\n",
      "this is retrieve['Payment Services\\n\\nThe Company offers payment services, including Apple Card®, a co-branded credit card, and Apple Pay®, a cashless payment service.\\n\\nSegments\\n\\nThe Company manages its business primarily on a geographic basis. The Company’s reportable segments consist of the Americas, Europe, Greater China,\\nJapan and Rest of Asia Pacific. Americas includes both North and South America. Europe includes European countries, as well as India, the Middle East and\\nAfrica. Greater China includes China mainland, Hong Kong and Taiwan. Rest of Asia Pacific includes Australia and those Asian countries not included in the\\nCompany’s other reportable segments. Although the reportable segments provide similar hardware and software products and similar services, each one is\\nmanaged separately to better align with the location of the Company’s customers and distribution partners and the unique market dynamics of each geographic\\nregion.\\n\\nMarkets and Distribution', 'The Company also offers digital content through subscription-based services, including Apple Arcade®, a game subscription service; Apple Fitness+SM, a\\npersonalized fitness service; Apple Music®, which offers users a curated listening experience with on-demand radio stations; Apple News+®, a subscription news\\nand magazine service; and Apple TV+®, which offers exclusive original content and live sports.\\n\\nPayment Services\\n\\nThe Company offers payment services, including Apple Card®, a co-branded credit card, and Apple Pay®, a cashless payment service.\\n\\nSegments', 'Substantially all of the Company’s hardware products are manufactured by outsourcing partners that are located primarily in China mainland, India, Japan, South\\nKorea, Taiwan and Vietnam. Apple Inc. | 2023 Form 10-K | 46\\n\\nNote 13 – Segment Information and Geographic Data\\n\\nThe Company manages its business primarily on a geographic basis. The Company’s reportable segments consist of the Americas, Europe, Greater China,\\nJapan and Rest of Asia Pacific. Americas includes both North and South America. Europe includes European countries, as well as India, the Middle East and\\nAfrica. Greater China includes China mainland, Hong Kong and Taiwan. Rest of Asia Pacific includes Australia and those Asian countries not included in the\\nCompany’s other reportable segments.']\n"
     ]
    },
    {
     "name": "stderr",
     "output_type": "stream",
     "text": [
      " 30%|█████████████████████████████████████████████▎                                                                                                         | 3/10 [00:01<00:02,  2.78it/s]"
     ]
    },
    {
     "name": "stdout",
     "output_type": "stream",
     "text": [
      "I'm here[{'long_text': 'Many of the Company’s competitors seek to compete primarily through aggressive pricing and very low cost structures, and by imitating the\\nCompany’s products and infringing on its intellectual property.\\n\\nApple Inc. | 2023 Form 10-K | 2\\n\\nThe Company’s ability to compete successfully depends heavily on ensuring the continuing and timely introduction of innovative new products, services and\\ntechnologies to the marketplace. The Company designs and develops nearly the entire solution for its products, including the hardware, operating system,\\nnumerous software applications and related services. Principal competitive factors important to the Company include price, product and service features\\n(including security features), relative price and performance, product and service quality and reliability, design innovation, a strong third-party software and\\naccessories ecosystem, marketing and distribution capability, service and support, and corporate reputation.'}, {'long_text': 'The Company designs and develops nearly the entire solution for its products, including the hardware, operating system,\\nnumerous software applications and related services. Principal competitive factors important to the Company include price, product and service features\\n(including security features), relative price and performance, product and service quality and reliability, design innovation, a strong third-party software and\\naccessories ecosystem, marketing and distribution capability, service and support, and corporate reputation. The Company is focused on expanding its market opportunities related to smartphones, personal computers, tablets, wearables and accessories, and services. The Company faces substantial competition in these markets from companies that have significant technical, marketing, distribution and other resources, as well\\nas established hardware, software, and service offerings with large customer bases. In addition, some of the Company’s competitors have broader product lines,\\nlower-priced products and a larger installed base of active devices.'}, {'long_text': 'The Company’s products and services are offered in highly competitive global markets characterized by aggressive price competition and resulting downward\\npressure on gross margins, frequent introduction of new products and services, short product life cycles, evolving industry standards, continual improvement in\\nproduct price and performance characteristics, rapid adoption of technological advancements by competitors, and price sensitivity on the part of consumers and\\nbusinesses.\\n\\nThe Company’s ability to compete successfully depends heavily on ensuring the continuing and timely introduction of innovative new products, services and\\ntechnologies to the marketplace. The Company designs and develops nearly the entire solution for its products, including the hardware, operating system,\\nnumerous software applications and related services. As a result, the Company must make significant investments in R&D. There can be no assurance these\\ninvestments will achieve expected returns, and the Company may not be able to develop and market new products and services successfully.\\n\\nApple Inc. | 2023 Form 10-K | 6'}]\n",
      "this is retrieve['Many of the Company’s competitors seek to compete primarily through aggressive pricing and very low cost structures, and by imitating the\\nCompany’s products and infringing on its intellectual property.\\n\\nApple Inc. | 2023 Form 10-K | 2\\n\\nThe Company’s ability to compete successfully depends heavily on ensuring the continuing and timely introduction of innovative new products, services and\\ntechnologies to the marketplace. The Company designs and develops nearly the entire solution for its products, including the hardware, operating system,\\nnumerous software applications and related services. Principal competitive factors important to the Company include price, product and service features\\n(including security features), relative price and performance, product and service quality and reliability, design innovation, a strong third-party software and\\naccessories ecosystem, marketing and distribution capability, service and support, and corporate reputation.', 'The Company designs and develops nearly the entire solution for its products, including the hardware, operating system,\\nnumerous software applications and related services. Principal competitive factors important to the Company include price, product and service features\\n(including security features), relative price and performance, product and service quality and reliability, design innovation, a strong third-party software and\\naccessories ecosystem, marketing and distribution capability, service and support, and corporate reputation. The Company is focused on expanding its market opportunities related to smartphones, personal computers, tablets, wearables and accessories, and services. The Company faces substantial competition in these markets from companies that have significant technical, marketing, distribution and other resources, as well\\nas established hardware, software, and service offerings with large customer bases. In addition, some of the Company’s competitors have broader product lines,\\nlower-priced products and a larger installed base of active devices.', 'The Company’s products and services are offered in highly competitive global markets characterized by aggressive price competition and resulting downward\\npressure on gross margins, frequent introduction of new products and services, short product life cycles, evolving industry standards, continual improvement in\\nproduct price and performance characteristics, rapid adoption of technological advancements by competitors, and price sensitivity on the part of consumers and\\nbusinesses.\\n\\nThe Company’s ability to compete successfully depends heavily on ensuring the continuing and timely introduction of innovative new products, services and\\ntechnologies to the marketplace. The Company designs and develops nearly the entire solution for its products, including the hardware, operating system,\\nnumerous software applications and related services. As a result, the Company must make significant investments in R&D. There can be no assurance these\\ninvestments will achieve expected returns, and the Company may not be able to develop and market new products and services successfully.\\n\\nApple Inc. | 2023 Form 10-K | 6']\n"
     ]
    },
    {
     "name": "stderr",
     "output_type": "stream",
     "text": [
      " 40%|████████████████████████████████████████████████████████████▍                                                                                          | 4/10 [00:01<00:01,  3.03it/s]"
     ]
    },
    {
     "name": "stdout",
     "output_type": "stream",
     "text": [
      "I'm here[{'long_text': 'Apple Inc. | 2023 Form 10-K | 3\\n\\nBusiness Seasonality and Product Introductions\\n\\nThe Company has historically experienced higher net sales in its first quarter compared to other quarters in its fiscal year due in part to seasonal holiday\\ndemand. Additionally, new product and service introductions can significantly impact net sales, cost of sales and operating expenses. The timing of product\\nintroductions can also impact the Company’s net sales to its indirect distribution channels as these channels are filled with new inventory following a product\\nlaunch, and channel inventory of an older product often declines as the launch of a newer product approaches. Net sales can also be affected when consumers\\nand distributors anticipate a product introduction.'}, {'long_text': 'It may be necessary in the future to seek or renew licenses relating to various aspects of the Company’s products, processes and services. While the\\nCompany has generally been able to obtain such licenses on commercially reasonable terms in the past, there is no guarantee that such licenses could be\\nobtained in the future on reasonable terms or at all. Apple Inc. | 2023 Form 10-K | 3\\n\\nBusiness Seasonality and Product Introductions\\n\\nThe Company has historically experienced higher net sales in its first quarter compared to other quarters in its fiscal year due in part to seasonal holiday\\ndemand. Additionally, new product and service introductions can significantly impact net sales, cost of sales and operating expenses.'}, {'long_text': 'The Company’s total net sales decreased 3% or $11.0 billion during 2023 compared to 2022.\\n\\nThe weakness in foreign currencies relative to the U.S. dollar\\naccounted for more than the entire year-over-year decrease in total net sales, which consisted primarily of lower net sales of Mac and iPhone, partially offset by\\nhigher net sales of Services.\\n\\nThe Company announces new product, service and software offerings at various times during the year. Significant announcements during fiscal year 2023\\nincluded the following:\\n\\nFirst Quarter 2023:\\n\\n• iPad and iPad Pro;\\n• Next-generation Apple TV 4K; and\\n• MLS Season Pass, a Major League Soccer subscription streaming service.\\n\\nSecond Quarter 2023:\\n\\n• MacBook Pro 14”, MacBook Pro 16” and Mac mini; and\\n• Second-generation HomePod.\\n\\nThird Quarter 2023:'}]\n",
      "this is retrieve['Apple Inc. | 2023 Form 10-K | 3\\n\\nBusiness Seasonality and Product Introductions\\n\\nThe Company has historically experienced higher net sales in its first quarter compared to other quarters in its fiscal year due in part to seasonal holiday\\ndemand. Additionally, new product and service introductions can significantly impact net sales, cost of sales and operating expenses. The timing of product\\nintroductions can also impact the Company’s net sales to its indirect distribution channels as these channels are filled with new inventory following a product\\nlaunch, and channel inventory of an older product often declines as the launch of a newer product approaches. Net sales can also be affected when consumers\\nand distributors anticipate a product introduction.', 'It may be necessary in the future to seek or renew licenses relating to various aspects of the Company’s products, processes and services. While the\\nCompany has generally been able to obtain such licenses on commercially reasonable terms in the past, there is no guarantee that such licenses could be\\nobtained in the future on reasonable terms or at all. Apple Inc. | 2023 Form 10-K | 3\\n\\nBusiness Seasonality and Product Introductions\\n\\nThe Company has historically experienced higher net sales in its first quarter compared to other quarters in its fiscal year due in part to seasonal holiday\\ndemand. Additionally, new product and service introductions can significantly impact net sales, cost of sales and operating expenses.', 'The Company’s total net sales decreased 3% or $11.0 billion during 2023 compared to 2022.\\n\\nThe weakness in foreign currencies relative to the U.S. dollar\\naccounted for more than the entire year-over-year decrease in total net sales, which consisted primarily of lower net sales of Mac and iPhone, partially offset by\\nhigher net sales of Services.\\n\\nThe Company announces new product, service and software offerings at various times during the year. Significant announcements during fiscal year 2023\\nincluded the following:\\n\\nFirst Quarter 2023:\\n\\n• iPad and iPad Pro;\\n• Next-generation Apple TV 4K; and\\n• MLS Season Pass, a Major League Soccer subscription streaming service.\\n\\nSecond Quarter 2023:\\n\\n• MacBook Pro 14”, MacBook Pro 16” and Mac mini; and\\n• Second-generation HomePod.\\n\\nThird Quarter 2023:']\n"
     ]
    },
    {
     "name": "stderr",
     "output_type": "stream",
     "text": [
      " 50%|███████████████████████████████████████████████████████████████████████████▌                                                                           | 5/10 [00:01<00:01,  3.18it/s]"
     ]
    },
    {
     "name": "stdout",
     "output_type": "stream",
     "text": [
      "I'm here[{'long_text': 'Therefore, the Company accounts for all third-party application–related sales on a net basis by recognizing in Services net sales only the commission it retains.\\n\\nApple Inc. | 2023 Form 10-K | 34\\n\\nNet sales disaggregated by significant products and services for 2023, 2022 and 2021 were as follows (in millions):\\n2023 2022 2021\\n\\niPhone (1) $ 200,583 $ 205,489 $ 191,973 \\nMac (1) 29,357 40,177 35,190 \\niPad (1) 28,300 29,292 31,862 \\nWearables, Home and Accessories (1) 39,845 41,241 38,367 \\nServices (2) 85,200 78,129 68,425\\n\\nTotal net sales $ 383,285 $ 394,328 $ 365,817'}, {'long_text': 'Commission File Number: 001-36743\\n\\nApple Inc.\\n(Exact name of Registrant as specified in its charter)\\n\\nCalifornia 94-2404110\\n(State or other jurisdiction (I.R.S.\\n\\nEmployer Identification No.)\\n\\nof incorporation or organization)\\n\\nOne Apple Park Way\\nCupertino, California 95014\\n\\n(Address of principal executive offices) (Zip Code)\\n\\n(408) 996-1010\\n(Registrant’s telephone number, including area code)\\n\\nSecurities registered pursuant to Section 12(b) of the Act:\\n\\nTitle of each class Trading symbol(s) Name of each exchange on which registered\\nCommon Stock, $0.00001 par value per share AAPL The Nasdaq Stock Market LLC'}, {'long_text': 'Unless otherwise stated, all information presented herein is based on the Company’s fiscal calendar, and references to particular years, quarters, months or\\nperiods refer to the Company’s fiscal years ended in September and the associated quarters, months and periods of those fiscal years.\\n\\nEach of the terms the\\n“Company” and “Apple” as used herein refers collectively to Apple Inc. and its wholly owned subsidiaries, unless otherwise stated.\\n\\nPART I\\n\\nItem 1.\\n\\nBusiness\\n\\nCompany Background\\n\\nThe Company designs, manufactures and markets smartphones, personal computers, tablets, wearables and accessories, and sells a variety of related\\nservices. The Company’s fiscal year is the 52- or 53-week period that ends on the last Saturday of September.\\n\\nProducts\\n\\niPhone\\n\\niPhone® is the Company’s line of smartphones based on its iOS operating system. The iPhone line includes iPhone 15 Pro, iPhone 15, iPhone 14, iPhone 13\\nand iPhone SE®.'}]\n",
      "this is retrieve['Therefore, the Company accounts for all third-party application–related sales on a net basis by recognizing in Services net sales only the commission it retains.\\n\\nApple Inc. | 2023 Form 10-K | 34\\n\\nNet sales disaggregated by significant products and services for 2023, 2022 and 2021 were as follows (in millions):\\n2023 2022 2021\\n\\niPhone (1) $ 200,583 $ 205,489 $ 191,973 \\nMac (1) 29,357 40,177 35,190 \\niPad (1) 28,300 29,292 31,862 \\nWearables, Home and Accessories (1) 39,845 41,241 38,367 \\nServices (2) 85,200 78,129 68,425\\n\\nTotal net sales $ 383,285 $ 394,328 $ 365,817', 'Commission File Number: 001-36743\\n\\nApple Inc.\\n(Exact name of Registrant as specified in its charter)\\n\\nCalifornia 94-2404110\\n(State or other jurisdiction (I.R.S.\\n\\nEmployer Identification No.)\\n\\nof incorporation or organization)\\n\\nOne Apple Park Way\\nCupertino, California 95014\\n\\n(Address of principal executive offices) (Zip Code)\\n\\n(408) 996-1010\\n(Registrant’s telephone number, including area code)\\n\\nSecurities registered pursuant to Section 12(b) of the Act:\\n\\nTitle of each class Trading symbol(s) Name of each exchange on which registered\\nCommon Stock, $0.00001 par value per share AAPL The Nasdaq Stock Market LLC', 'Unless otherwise stated, all information presented herein is based on the Company’s fiscal calendar, and references to particular years, quarters, months or\\nperiods refer to the Company’s fiscal years ended in September and the associated quarters, months and periods of those fiscal years.\\n\\nEach of the terms the\\n“Company” and “Apple” as used herein refers collectively to Apple Inc. and its wholly owned subsidiaries, unless otherwise stated.\\n\\nPART I\\n\\nItem 1.\\n\\nBusiness\\n\\nCompany Background\\n\\nThe Company designs, manufactures and markets smartphones, personal computers, tablets, wearables and accessories, and sells a variety of related\\nservices. The Company’s fiscal year is the 52- or 53-week period that ends on the last Saturday of September.\\n\\nProducts\\n\\niPhone\\n\\niPhone® is the Company’s line of smartphones based on its iOS operating system. The iPhone line includes iPhone 15 Pro, iPhone 15, iPhone 14, iPhone 13\\nand iPhone SE®.']\n"
     ]
    },
    {
     "name": "stderr",
     "output_type": "stream",
     "text": [
      " 60%|██████████████████████████████████████████████████████████████████████████████████████████▌                                                            | 6/10 [00:01<00:01,  3.59it/s]"
     ]
    },
    {
     "name": "stdout",
     "output_type": "stream",
     "text": [
      "I'm here[{'long_text': 'Inclusion and Diversity\\n\\nThe Company is committed to its vision to build and sustain a more inclusive workforce that is representative of the communities it serves.\\n\\nThe Company\\ncontinues to work to increase diverse representation at every level, foster an inclusive culture, and support equitable pay and access to opportunity for all\\nemployees.\\n\\nEngagement\\n\\nThe Company believes that open and honest communication among team members, managers and leaders helps create an open, collaborative work\\nenvironment where everyone can contribute, grow and succeed. Team members are encouraged to come to their managers with questions, feedback or\\nconcerns, and the Company conducts surveys that gauge employee sentiment in areas like career development, manager performance and inclusivity.\\n\\nHealth and Safety'}, {'long_text': 'Human Capital\\n\\nThe Company believes it has a talented, motivated and dedicated team, and works to create an inclusive, safe and supportive environment for all of its team\\nmembers.\\n\\nAs of September 30, 2023, the Company had approximately 161,000 full-time equivalent employees.\\n\\nWorkplace Practices and Policies\\n\\nThe Company is an equal opportunity employer committed to inclusion and diversity and to providing a workplace free of harassment or discrimination.\\n\\nCompensation and Benefits\\n\\nThe Company believes that compensation should be competitive and equitable, and should enable employees to share in the Company’s success. The\\nCompany recognizes its people are most likely to thrive when they have the resources to meet their needs and the time and support to succeed in their\\nprofessional and personal lives. In support of this, the Company offers a wide variety of benefits for employees around the world and invests in tools and\\nresources that are designed to support employees’ individual growth and development.\\n\\nInclusion and Diversity'}, {'long_text': 'The\\nCompany recognizes its people are most likely to thrive when they have the resources to meet their needs and the time and support to succeed in their\\nprofessional and personal lives.\\n\\nIn support of this, the Company offers a wide variety of benefits for employees around the world and invests in tools and\\nresources that are designed to support employees’ individual growth and development.\\n\\nInclusion and Diversity\\n\\nThe Company is committed to its vision to build and sustain a more inclusive workforce that is representative of the communities it serves. The Company\\ncontinues to work to increase diverse representation at every level, foster an inclusive culture, and support equitable pay and access to opportunity for all\\nemployees.\\n\\nEngagement'}]\n",
      "this is retrieve['Inclusion and Diversity\\n\\nThe Company is committed to its vision to build and sustain a more inclusive workforce that is representative of the communities it serves.\\n\\nThe Company\\ncontinues to work to increase diverse representation at every level, foster an inclusive culture, and support equitable pay and access to opportunity for all\\nemployees.\\n\\nEngagement\\n\\nThe Company believes that open and honest communication among team members, managers and leaders helps create an open, collaborative work\\nenvironment where everyone can contribute, grow and succeed. Team members are encouraged to come to their managers with questions, feedback or\\nconcerns, and the Company conducts surveys that gauge employee sentiment in areas like career development, manager performance and inclusivity.\\n\\nHealth and Safety', 'Human Capital\\n\\nThe Company believes it has a talented, motivated and dedicated team, and works to create an inclusive, safe and supportive environment for all of its team\\nmembers.\\n\\nAs of September 30, 2023, the Company had approximately 161,000 full-time equivalent employees.\\n\\nWorkplace Practices and Policies\\n\\nThe Company is an equal opportunity employer committed to inclusion and diversity and to providing a workplace free of harassment or discrimination.\\n\\nCompensation and Benefits\\n\\nThe Company believes that compensation should be competitive and equitable, and should enable employees to share in the Company’s success. The\\nCompany recognizes its people are most likely to thrive when they have the resources to meet their needs and the time and support to succeed in their\\nprofessional and personal lives. In support of this, the Company offers a wide variety of benefits for employees around the world and invests in tools and\\nresources that are designed to support employees’ individual growth and development.\\n\\nInclusion and Diversity', 'The\\nCompany recognizes its people are most likely to thrive when they have the resources to meet their needs and the time and support to succeed in their\\nprofessional and personal lives.\\n\\nIn support of this, the Company offers a wide variety of benefits for employees around the world and invests in tools and\\nresources that are designed to support employees’ individual growth and development.\\n\\nInclusion and Diversity\\n\\nThe Company is committed to its vision to build and sustain a more inclusive workforce that is representative of the communities it serves. The Company\\ncontinues to work to increase diverse representation at every level, foster an inclusive culture, and support equitable pay and access to opportunity for all\\nemployees.\\n\\nEngagement']\n"
     ]
    },
    {
     "name": "stderr",
     "output_type": "stream",
     "text": [
      " 70%|█████████████████████████████████████████████████████████████████████████████████████████████████████████▋                                             | 7/10 [00:02<00:00,  3.68it/s]"
     ]
    },
    {
     "name": "stdout",
     "output_type": "stream",
     "text": [
      "I'm here[{'long_text': 'In contrast, many of the Company’s competitors seek to compete primarily through aggressive pricing and very low cost structures,\\nand by imitating the Company’s products and infringing on its intellectual property. Effective intellectual property protection is not consistently available in every\\ncountry in which the Company operates. If the Company is unable to continue to develop and sell innovative new products with attractive margins or if\\ncompetitors infringe on the Company’s intellectual property, the Company’s ability to maintain a competitive advantage could be materially adversely affected.'}, {'long_text': 'Effective intellectual property protection is not consistently available in every\\ncountry in which the Company operates. If the Company is unable to continue to develop and sell innovative new products with attractive margins or if\\ncompetitors infringe on the Company’s intellectual property, the Company’s ability to maintain a competitive advantage could be materially adversely affected. The Company has a minority market share in the global smartphone, personal computer and tablet markets. The Company faces substantial competition in\\nthese markets from companies that have significant technical, marketing, distribution and other resources, as well as established hardware, software and digital\\ncontent supplier relationships. In addition, some of the Company’s competitors have broader product lines, lower-priced products and a larger installed base of\\nactive devices. Competition has been particularly intense as competitors have aggressively cut prices and lowered product margins. Certain competitors have\\nthe resources, experience or cost structures to provide products at little or no profit or even at a loss.'}, {'long_text': 'Because the Company’s markets\\nare volatile, competitive and subject to rapid technology and price changes, there is a risk the Company will forecast incorrectly and order or produce excess or\\ninsufficient amounts of components or products, or not fully utilize firm purchase commitments. The Company relies on access to third-party intellectual property, which may not be available to the Company on commercially reasonable terms or\\nat all. The Company’s products and services are designed to include intellectual property owned by third parties, which requires licenses from those third parties. In\\naddition, because of technological changes in the industries in which the Company currently competes or in the future may compete, current extensive patent\\ncoverage and the rapid rate of issuance of new patents, the Company’s products and services can unknowingly infringe existing patents or intellectual property\\nrights of others. From time to time, the Company has been notified that it may be infringing certain patents or other intellectual property rights of third parties.'}]\n",
      "this is retrieve['In contrast, many of the Company’s competitors seek to compete primarily through aggressive pricing and very low cost structures,\\nand by imitating the Company’s products and infringing on its intellectual property. Effective intellectual property protection is not consistently available in every\\ncountry in which the Company operates. If the Company is unable to continue to develop and sell innovative new products with attractive margins or if\\ncompetitors infringe on the Company’s intellectual property, the Company’s ability to maintain a competitive advantage could be materially adversely affected.', 'Effective intellectual property protection is not consistently available in every\\ncountry in which the Company operates. If the Company is unable to continue to develop and sell innovative new products with attractive margins or if\\ncompetitors infringe on the Company’s intellectual property, the Company’s ability to maintain a competitive advantage could be materially adversely affected. The Company has a minority market share in the global smartphone, personal computer and tablet markets. The Company faces substantial competition in\\nthese markets from companies that have significant technical, marketing, distribution and other resources, as well as established hardware, software and digital\\ncontent supplier relationships. In addition, some of the Company’s competitors have broader product lines, lower-priced products and a larger installed base of\\nactive devices. Competition has been particularly intense as competitors have aggressively cut prices and lowered product margins. Certain competitors have\\nthe resources, experience or cost structures to provide products at little or no profit or even at a loss.', 'Because the Company’s markets\\nare volatile, competitive and subject to rapid technology and price changes, there is a risk the Company will forecast incorrectly and order or produce excess or\\ninsufficient amounts of components or products, or not fully utilize firm purchase commitments. The Company relies on access to third-party intellectual property, which may not be available to the Company on commercially reasonable terms or\\nat all. The Company’s products and services are designed to include intellectual property owned by third parties, which requires licenses from those third parties. In\\naddition, because of technological changes in the industries in which the Company currently competes or in the future may compete, current extensive patent\\ncoverage and the rapid rate of issuance of new patents, the Company’s products and services can unknowingly infringe existing patents or intellectual property\\nrights of others. From time to time, the Company has been notified that it may be infringing certain patents or other intellectual property rights of third parties.']\n"
     ]
    },
    {
     "name": "stderr",
     "output_type": "stream",
     "text": [
      " 80%|████████████████████████████████████████████████████████████████████████████████████████████████████████████████████████▊                              | 8/10 [00:02<00:00,  3.68it/s]"
     ]
    },
    {
     "name": "stdout",
     "output_type": "stream",
     "text": [
      "I'm here[{'long_text': 'The Company’s business, results of operations and financial condition depend substantially on the Company’s ability to continually improve its products and\\nservices to maintain their functional and design advantages. There can be no assurance the Company will be able to continue to provide products and services\\nthat compete effectively. Business Risks\\n\\nTo remain competitive and stimulate customer demand, the Company must successfully manage frequent introductions and transitions of products\\nand services. Due to the highly volatile and competitive nature of the markets and industries in which the Company competes, the Company must continually introduce new\\nproducts, services and technologies, enhance existing products and services, effectively stimulate customer demand for new and upgraded products and\\nservices, and successfully manage the transition to these new and upgraded products and services.'}, {'long_text': 'Additionally, the Company faces significant competition as competitors imitate the Company’s product features and applications within their products or\\ncollaborate to offer solutions that are more competitive than those they currently offer. The Company also expects competition to intensify as competitors imitate\\nthe Company’s approach to providing components seamlessly within their offerings or work collaboratively to offer integrated solutions.\\n\\nThe Company’s services also face substantial competition, including from companies that have significant resources and experience and have established\\nservice offerings with large customer bases. The Company competes with business models that provide content to users for free. The Company also competes\\nwith illegitimate means to obtain third-party digital content and applications.\\n\\nThe Company’s business, results of operations and financial condition depend substantially on the Company’s ability to continually improve its products and\\nservices to maintain their functional and design advantages. There can be no assurance the Company will be able to continue to provide products and services\\nthat compete effectively.\\n\\nBusiness Risks'}, {'long_text': 'Business Risks To remain competitive and stimulate customer demand, the Company must successfully manage frequent introductions and transitions of products and services. Due to the highly volatile and competitive nature of the markets and industries in which the Company competes, the Company must continually introduce new products, services and technologies, enhance existing products and services, effectively stimulate customer demand for new and upgraded products and services, and successfully manage the transition to these new and upgraded products and services. The success of new product and service introductions depends on a number of factors, including timely and successful development, market acceptance, the Company’s ability to manage the risks associated with new technologies and production ramp-up issues, the availability of application software for the Company’s products, the effective management of purchase commitments and inventory levels in line with anticipated product demand, the availability of products in appropriate quantities and at expected costs to meet anticipated demand, and the risk that new products and services may have quality or other defects or deficiencies.'}]\n",
      "this is retrieve['The Company’s business, results of operations and financial condition depend substantially on the Company’s ability to continually improve its products and\\nservices to maintain their functional and design advantages. There can be no assurance the Company will be able to continue to provide products and services\\nthat compete effectively. Business Risks\\n\\nTo remain competitive and stimulate customer demand, the Company must successfully manage frequent introductions and transitions of products\\nand services. Due to the highly volatile and competitive nature of the markets and industries in which the Company competes, the Company must continually introduce new\\nproducts, services and technologies, enhance existing products and services, effectively stimulate customer demand for new and upgraded products and\\nservices, and successfully manage the transition to these new and upgraded products and services.', 'Additionally, the Company faces significant competition as competitors imitate the Company’s product features and applications within their products or\\ncollaborate to offer solutions that are more competitive than those they currently offer. The Company also expects competition to intensify as competitors imitate\\nthe Company’s approach to providing components seamlessly within their offerings or work collaboratively to offer integrated solutions.\\n\\nThe Company’s services also face substantial competition, including from companies that have significant resources and experience and have established\\nservice offerings with large customer bases. The Company competes with business models that provide content to users for free. The Company also competes\\nwith illegitimate means to obtain third-party digital content and applications.\\n\\nThe Company’s business, results of operations and financial condition depend substantially on the Company’s ability to continually improve its products and\\nservices to maintain their functional and design advantages. There can be no assurance the Company will be able to continue to provide products and services\\nthat compete effectively.\\n\\nBusiness Risks', 'Business Risks To remain competitive and stimulate customer demand, the Company must successfully manage frequent introductions and transitions of products and services. Due to the highly volatile and competitive nature of the markets and industries in which the Company competes, the Company must continually introduce new products, services and technologies, enhance existing products and services, effectively stimulate customer demand for new and upgraded products and services, and successfully manage the transition to these new and upgraded products and services. The success of new product and service introductions depends on a number of factors, including timely and successful development, market acceptance, the Company’s ability to manage the risks associated with new technologies and production ramp-up issues, the availability of application software for the Company’s products, the effective management of purchase commitments and inventory levels in line with anticipated product demand, the availability of products in appropriate quantities and at expected costs to meet anticipated demand, and the risk that new products and services may have quality or other defects or deficiencies.']\n"
     ]
    },
    {
     "name": "stderr",
     "output_type": "stream",
     "text": [
      " 90%|███████████████████████████████████████████████████████████████████████████████████████████████████████████████████████████████████████▉               | 9/10 [00:02<00:00,  3.53it/s]"
     ]
    },
    {
     "name": "stdout",
     "output_type": "stream",
     "text": [
      "I'm here[{'long_text': 'The Company relies on single-source outsourcing partners in the U.S., Asia and Europe to supply and manufacture many components, and on outsourcing\\npartners primarily located in Asia, for final assembly of substantially all of the Company’s hardware products. Any failure of these partners to perform can have a\\nnegative impact on the Company’s cost or supply of components or finished goods. In addition, manufacturing or logistics in these locations or transit to final\\ndestinations can be disrupted for a variety of reasons, including natural and man-made disasters, information technology system failures, commercial disputes,\\narmed conflict, economic, business, labor, environmental, public health or political issues, or international trade disputes.'}, {'long_text': 'The Company has also outsourced much of its transportation and logistics management. While these arrangements can lower operating costs, they also reduce\\nthe Company’s direct control over production and distribution. Such diminished control has from time to time and may in the future have an adverse effect on the\\nquality or quantity of products manufactured or services provided, or adversely affect the Company’s flexibility to respond to changing conditions. Although\\narrangements with these partners may contain provisions for product defect expense reimbursement, the Company generally remains responsible to the\\nconsumer for warranty and out-of-warranty service in the event of product defects and experiences unanticipated product defect liabilities from time to time. While the Company relies on its partners to adhere to its supplier code of conduct, violations of the supplier code of conduct occur from time to time and can\\nmaterially adversely affect the Company’s business, reputation, results of operations and financial condition.'}, {'long_text': 'The Company depends on component and product manufacturing and logistical services provided by outsourcing partners, many of which are\\nlocated outside of the U.S.'}]\n",
      "this is retrieve['The Company relies on single-source outsourcing partners in the U.S., Asia and Europe to supply and manufacture many components, and on outsourcing\\npartners primarily located in Asia, for final assembly of substantially all of the Company’s hardware products. Any failure of these partners to perform can have a\\nnegative impact on the Company’s cost or supply of components or finished goods. In addition, manufacturing or logistics in these locations or transit to final\\ndestinations can be disrupted for a variety of reasons, including natural and man-made disasters, information technology system failures, commercial disputes,\\narmed conflict, economic, business, labor, environmental, public health or political issues, or international trade disputes.', 'The Company has also outsourced much of its transportation and logistics management. While these arrangements can lower operating costs, they also reduce\\nthe Company’s direct control over production and distribution. Such diminished control has from time to time and may in the future have an adverse effect on the\\nquality or quantity of products manufactured or services provided, or adversely affect the Company’s flexibility to respond to changing conditions. Although\\narrangements with these partners may contain provisions for product defect expense reimbursement, the Company generally remains responsible to the\\nconsumer for warranty and out-of-warranty service in the event of product defects and experiences unanticipated product defect liabilities from time to time. While the Company relies on its partners to adhere to its supplier code of conduct, violations of the supplier code of conduct occur from time to time and can\\nmaterially adversely affect the Company’s business, reputation, results of operations and financial condition.', 'The Company depends on component and product manufacturing and logistical services provided by outsourcing partners, many of which are\\nlocated outside of the U.S.']\n"
     ]
    },
    {
     "name": "stderr",
     "output_type": "stream",
     "text": [
      "100%|██████████████████████████████████████████████████████████████████████████████████████████████████████████████████████████████████████████████████████| 10/10 [00:02<00:00,  3.37it/s]"
     ]
    },
    {
     "name": "stdout",
     "output_type": "stream",
     "text": [
      "I'm here[{'long_text': 'The Company is also subject\\nto litigation and investigations relating to the App Store, which have resulted in changes to the Company’s business practices, and may in the future result in\\nfurther changes. Changes have included how developers communicate with consumers outside the App Store regarding alternative purchasing mechanisms. Future changes could also affect what the Company charges developers for access to its platforms, how it manages distribution of apps outside of the App\\nStore, and how and to what extent it allows developers to communicate with consumers inside the App Store regarding alternative purchasing mechanisms. This\\ncould reduce the volume of sales, and the commission that the Company earns on those sales, would decrease. If the rate of the commission that the Company\\nretains on such sales is reduced, or if it is otherwise narrowed in scope or eliminated, the Company’s business, results of operations and financial condition\\ncould be materially adversely affected.'}, {'long_text': 'The Company’s products\\nand operating systems are subject to rapid technological change, and when third-party developers are unable to or choose not to keep up with this pace of\\nchange, their applications can fail to take advantage of these changes to deliver improved customer experiences, can operate incorrectly, and can result in\\ndissatisfied customers and lower customer demand for the Company’s products. Apple Inc. | 2023 Form 10-K | 9\\n\\nThe Company distributes third-party applications for its products through the App Store. For the vast majority of applications, developers keep all of the revenue\\nthey generate on the App Store. The Company retains a commission from sales of applications and sales of digital services or goods initiated within an\\napplication. From time to time, the Company has made changes to its App Store, including actions taken in response to competition, market conditions and legal\\nand regulatory requirements.'}, {'long_text': 'For the vast majority of applications, developers keep all of the revenue\\nthey generate on the App Store. The Company retains a commission from sales of applications and sales of digital services or goods initiated within an\\napplication. From time to time, the Company has made changes to its App Store, including actions taken in response to competition, market conditions and legal\\nand regulatory requirements. The Company expects to make further business changes in the future, including as a result of legislative initiatives impacting the\\nApp Store, such as the European Union (“EU”) Digital Markets Act, which the Company is required to comply with by March 2024. The Company is also subject\\nto litigation and investigations relating to the App Store, which have resulted in changes to the Company’s business practices, and may in the future result in\\nfurther changes. Changes have included how developers communicate with consumers outside the App Store regarding alternative purchasing mechanisms.'}]\n",
      "this is retrieve['The Company is also subject\\nto litigation and investigations relating to the App Store, which have resulted in changes to the Company’s business practices, and may in the future result in\\nfurther changes. Changes have included how developers communicate with consumers outside the App Store regarding alternative purchasing mechanisms. Future changes could also affect what the Company charges developers for access to its platforms, how it manages distribution of apps outside of the App\\nStore, and how and to what extent it allows developers to communicate with consumers inside the App Store regarding alternative purchasing mechanisms. This\\ncould reduce the volume of sales, and the commission that the Company earns on those sales, would decrease. If the rate of the commission that the Company\\nretains on such sales is reduced, or if it is otherwise narrowed in scope or eliminated, the Company’s business, results of operations and financial condition\\ncould be materially adversely affected.', 'The Company’s products\\nand operating systems are subject to rapid technological change, and when third-party developers are unable to or choose not to keep up with this pace of\\nchange, their applications can fail to take advantage of these changes to deliver improved customer experiences, can operate incorrectly, and can result in\\ndissatisfied customers and lower customer demand for the Company’s products. Apple Inc. | 2023 Form 10-K | 9\\n\\nThe Company distributes third-party applications for its products through the App Store. For the vast majority of applications, developers keep all of the revenue\\nthey generate on the App Store. The Company retains a commission from sales of applications and sales of digital services or goods initiated within an\\napplication. From time to time, the Company has made changes to its App Store, including actions taken in response to competition, market conditions and legal\\nand regulatory requirements.', 'For the vast majority of applications, developers keep all of the revenue\\nthey generate on the App Store. The Company retains a commission from sales of applications and sales of digital services or goods initiated within an\\napplication. From time to time, the Company has made changes to its App Store, including actions taken in response to competition, market conditions and legal\\nand regulatory requirements. The Company expects to make further business changes in the future, including as a result of legislative initiatives impacting the\\nApp Store, such as the European Union (“EU”) Digital Markets Act, which the Company is required to comply with by March 2024. The Company is also subject\\nto litigation and investigations relating to the App Store, which have resulted in changes to the Company’s business practices, and may in the future result in\\nfurther changes. Changes have included how developers communicate with consumers outside the App Store regarding alternative purchasing mechanisms.']\n",
      "Bootstrapped 0 full traces after 10 examples in round 0.\n"
     ]
    },
    {
     "name": "stderr",
     "output_type": "stream",
     "text": [
      "\n"
     ]
    }
   ],
   "source": [
    "from dspy.teleprompt import BootstrapFewShot\n",
    "\n",
    "# Validation logic: check that the predicted answer is correct.\n",
    "# Also check that the retrieved context does actually contain that answer.\n",
    "def validate_context_and_answer(example, pred, trace=None):\n",
    "    answer_EM = dspy.evaluate.answer_exact_match(example, pred)\n",
    "    answer_PM = dspy.evaluate.answer_passage_match(example, pred)\n",
    "    return answer_EM and answer_PM\n",
    "\n",
    "# Set up a basic teleprompter, which will compile our RAG program.\n",
    "teleprompter = BootstrapFewShot(metric=validate_context_and_answer)\n",
    "\n",
    "# Compile!\n",
    "compiled_rag = teleprompter.compile(RAG(), trainset=apple_example_set)"
   ]
  },
  {
   "cell_type": "markdown",
   "metadata": {},
   "source": [
    "Now that we've compiled our RAG program, let's try it out."
   ]
  },
  {
   "cell_type": "code",
   "execution_count": 19,
   "metadata": {},
   "outputs": [
    {
     "name": "stdout",
     "output_type": "stream",
     "text": [
      "Question: Please provide the total value of shares repurchased.\n",
      "Predicted Answer: $76.6 billion\n",
      "Retrieved Contexts (truncated): ['(1) As of September 30, 2023, the Company was authorized by the Board of Directors to purchase up to $90 billion of the Company’s common stock under a share\\nrepurchase program announced on May 4, 2023...', 'Under the programs, shares may be repurchased in privately negotiated or open market transactions, including under plans\\ncomplying with Rule 10b5-1 under the Exchange Act. (2) In August 2023, the Comp...', 'Note 10 – Shareholders’ Equity\\n\\nShare Repurchase Program\\n\\nDuring 2023, the Company repurchased 471 million shares of its common stock for $76.6 billion, excluding excise tax due under the Inflation Re...']\n"
     ]
    }
   ],
   "source": [
    "# Ask any question you like to this simple RAG program.\n",
    "my_question = \"Please provide the total value of shares repurchased.\"\n",
    "\n",
    "# Get the prediction. This contains `pred.context` and `pred.answer`.\n",
    "pred = compiled_rag(my_question)\n",
    "\n",
    "# Print the contexts and the answer.\n",
    "print(f\"Question: {my_question}\")\n",
    "print(f\"Predicted Answer: {pred.answer}\")\n",
    "print(f\"Retrieved Contexts (truncated): {[c[:200] + '...' for c in pred.context]}\")"
   ]
  },
  {
   "cell_type": "markdown",
   "metadata": {},
   "source": [
    "Excellent. How about we inspect the last prompt for the LM?"
   ]
  },
  {
   "cell_type": "code",
   "execution_count": 20,
   "metadata": {},
   "outputs": [
    {
     "name": "stdout",
     "output_type": "stream",
     "text": [
      "\n",
      "\n",
      "\n",
      "\n",
      "Answer questions with short factoid answers.\n",
      "\n",
      "---\n",
      "\n",
      "Question: What are the key components of Apple's competitive strategy?\n",
      "Answer: Innovation, product quality, strong ecosystem, marketing, distribution, and service and support offerings.\n",
      "\n",
      "Question: What is a key challenge the Company faces regarding its intellectual property?\n",
      "Answer: Competitors imitate products and infringe on intellectual property, affecting the Company's competitive advantage.\n",
      "\n",
      "Question: What risks does the Company face in terms of product development and market competition?\n",
      "Answer: Intense competition, price pressure, and uncertain market growth impact product innovation and market share.\n",
      "\n",
      "Question: How does Apple manage its business segments?\n",
      "Answer: Geographically, with segments including the Americas, Europe, Greater China, Japan, and Rest of Asia Pacific.\n",
      "\n",
      "Question: How does seasonality affect Apple's net sales?\n",
      "Answer: Higher in the first quarter due to seasonal holiday demand.\n",
      "\n",
      "Question: What is Apple's approach to workplace diversity?\n",
      "Answer: Committed to inclusion, diversity, and a harassment-free workplace.\n",
      "\n",
      "Question: How many employees does Apple have?\n",
      "Answer: Approximately 161,000 full-time equivalent employees as of September 30, 2023.\n",
      "\n",
      "Question: How does the Company's reliance on outsourcing partners affect its operations?\n",
      "Answer: Dependency on outsourcing partners poses risks including supply chain disruptions and quality control issues.\n",
      "\n",
      "Question: How does the App Store impact the Company's revenue and business strategy?\n",
      "Answer: App Store changes, regulatory requirements, and litigation can affect revenue and business operations.\n",
      "\n",
      "Question: What is the primary business of Apple Inc.?\n",
      "Answer: Designing, manufacturing, and marketing electronic devices, including smartphones, computers, and tablets.\n",
      "\n",
      "---\n",
      "\n",
      "Follow the following format.\n",
      "\n",
      "Context: may contain relevant facts\n",
      "\n",
      "Question: ${question}\n",
      "\n",
      "Reasoning: Let's think step by step in order to ${produce the answer}. We ...\n",
      "\n",
      "Answer: often between 1 and 5 words\n",
      "\n",
      "---\n",
      "\n",
      "Context:\n",
      "[1] «(1) As of September 30, 2023, the Company was authorized by the Board of Directors to purchase up to $90 billion of the Company’s common stock under a share\n",
      "repurchase program announced on May 4, 2023, of which $15.9 billion had been utilized. During the fourth quarter of 2023, the Company also utilized the final\n",
      "$4.6 billion under its previous repurchase program, which was most recently authorized in April 2022. The programs do not obligate the Company to acquire a\n",
      "minimum amount of shares. Under the programs, shares may be repurchased in privately negotiated or open market transactions, including under plans\n",
      "complying with Rule 10b5-1 under the Exchange Act.»\n",
      "[2] «Under the programs, shares may be repurchased in privately negotiated or open market transactions, including under plans\n",
      "complying with Rule 10b5-1 under the Exchange Act. (2) In August 2023, the Company entered into new accelerated share repurchase agreements (“ASRs”). Under the terms of the ASRs, two financial institutions\n",
      "committed to deliver shares of the Company’s common stock during the purchase periods in exchange for up-front payments totaling $5.0 billion. The total\n",
      "number of shares ultimately delivered under the ASRs, and therefore the average repurchase price paid per share, is determined based on the volume-weighted\n",
      "average price of the Company’s common stock during the ASRs’ purchase periods, which end in the first quarter of 2024.»\n",
      "[3] «Note 10 – Shareholders’ Equity\n",
      "\n",
      "Share Repurchase Program\n",
      "\n",
      "During 2023, the Company repurchased 471 million shares of its common stock for $76.6 billion, excluding excise tax due under the Inflation Reduction Act of\n",
      "2022. The Company’s share repurchase programs do not obligate the Company to acquire a minimum amount of shares. Under the programs, shares may be\n",
      "repurchased in privately negotiated or open market transactions, including under plans complying with Rule 10b5-1 under the Exchange Act.\n",
      "\n",
      "Apple Inc. | 2023 Form 10-K | 44\n",
      "\n",
      "Shares of Common Stock\n",
      "\n",
      "The following table shows the changes in shares of common stock for 2023, 2022 and 2021 (in thousands):\n",
      "2023 2022 2021»\n",
      "\n",
      "Question: Please provide the total value of shares repurchased.\n",
      "\n",
      "Reasoning: Let's think step by step in order to\u001b[32m produce the answer. We need to calculate the total value of shares repurchased by the Company.\n",
      "\n",
      "Answer: $76.6 billion\u001b[0m\n",
      "\n",
      "\n",
      "\n"
     ]
    }
   ],
   "source": [
    "turbo.inspect_history(n=1)"
   ]
  },
  {
   "cell_type": "markdown",
   "metadata": {},
   "source": [
    "Even though we haven't written any of this detailed demonstrations, we see that **DSPy** was able to bootstrap this 3,000 token prompt for **3-shot retrieval augmented generation with hard negative passages and chain of thought** from our extremely simple program.\n",
    "\n",
    "This illustrates the power of composition and learning. Of course, this was just generated by a particular teleprompter, which may or may not be perfect in each setting. As you'll see in **DSPy**, there is a large but systematic space of options you have to optimize and validate the quality and cost of your programs.\n",
    "\n",
    "If you're so inclined, you can easily inspect the learned objects themselves."
   ]
  },
  {
   "cell_type": "code",
   "execution_count": 21,
   "metadata": {},
   "outputs": [
    {
     "name": "stdout",
     "output_type": "stream",
     "text": [
      "generate_answer\n",
      "Example({'question': \"What are the key components of Apple's competitive strategy?\", 'answer': 'Innovation, product quality, strong ecosystem, marketing, distribution, and service and support offerings.'}) (input_keys={'question'})\n",
      "\n"
     ]
    }
   ],
   "source": [
    "for name, parameter in compiled_rag.named_predictors():\n",
    "    print(name)\n",
    "    print(parameter.demos[0])\n",
    "    print()"
   ]
  },
  {
   "cell_type": "markdown",
   "metadata": {},
   "source": [
    "##### Evaluating the Answers\n",
    "\n",
    "We can now evaluate our `compiled_rag` program on the dev set. Of course, this tiny set is _not_ meant to be a reliable benchmark, but it'll be instructive to use it for illustration.\n",
    "\n",
    "For a start, let's evaluate the accuracy (exact match) of the predicted answer."
   ]
  },
  {
   "cell_type": "code",
   "execution_count": 22,
   "metadata": {},
   "outputs": [
    {
     "name": "stderr",
     "output_type": "stream",
     "text": [
      "Average Metric: 9 / 10  (90.0): 100%|██████████████████████████████████████████████████████████████████████████████████████████████████████████████████████| 10/10 [00:19<00:00,  1.94s/it]\n"
     ]
    },
    {
     "name": "stdout",
     "output_type": "stream",
     "text": [
      "Average Metric: 9 / 10  (90.0%)\n"
     ]
    },
    {
     "data": {
      "text/html": [
       "<style type=\"text/css\">\n",
       "#T_f3184 th {\n",
       "  text-align: left;\n",
       "}\n",
       "#T_f3184 td {\n",
       "  text-align: left;\n",
       "}\n",
       "#T_f3184_row0_col0, #T_f3184_row0_col1, #T_f3184_row0_col2, #T_f3184_row0_col3, #T_f3184_row0_col4, #T_f3184_row1_col0, #T_f3184_row1_col1, #T_f3184_row1_col2, #T_f3184_row1_col3, #T_f3184_row1_col4, #T_f3184_row2_col0, #T_f3184_row2_col1, #T_f3184_row2_col2, #T_f3184_row2_col3, #T_f3184_row2_col4, #T_f3184_row3_col0, #T_f3184_row3_col1, #T_f3184_row3_col2, #T_f3184_row3_col3, #T_f3184_row3_col4, #T_f3184_row4_col0, #T_f3184_row4_col1, #T_f3184_row4_col2, #T_f3184_row4_col3, #T_f3184_row4_col4 {\n",
       "  text-align: left;\n",
       "  white-space: pre-wrap;\n",
       "  word-wrap: break-word;\n",
       "  max-width: 400px;\n",
       "}\n",
       "</style>\n",
       "<table id=\"T_f3184\">\n",
       "  <thead>\n",
       "    <tr>\n",
       "      <th class=\"blank level0\" >&nbsp;</th>\n",
       "      <th id=\"T_f3184_level0_col0\" class=\"col_heading level0 col0\" >question</th>\n",
       "      <th id=\"T_f3184_level0_col1\" class=\"col_heading level0 col1\" >example_answer</th>\n",
       "      <th id=\"T_f3184_level0_col2\" class=\"col_heading level0 col2\" >context</th>\n",
       "      <th id=\"T_f3184_level0_col3\" class=\"col_heading level0 col3\" >pred_answer</th>\n",
       "      <th id=\"T_f3184_level0_col4\" class=\"col_heading level0 col4\" >answer_exact_match</th>\n",
       "    </tr>\n",
       "  </thead>\n",
       "  <tbody>\n",
       "    <tr>\n",
       "      <th id=\"T_f3184_level0_row0\" class=\"row_heading level0 row0\" >0</th>\n",
       "      <td id=\"T_f3184_row0_col0\" class=\"data row0 col0\" >What is the primary business of Apple Inc.?</td>\n",
       "      <td id=\"T_f3184_row0_col1\" class=\"data row0 col1\" >Designing, manufacturing, and marketing electronic devices, including smartphones, computers, and tablets.</td>\n",
       "      <td id=\"T_f3184_row0_col2\" class=\"data row0 col2\" >['Many of the Company’s competitors seek to compete primarily through aggressive pricing and very low cost structures, and by imitating the\\nCompany’s products and infringing on...</td>\n",
       "      <td id=\"T_f3184_row0_col3\" class=\"data row0 col3\" >Designing, manufacturing, and marketing electronic devices.</td>\n",
       "      <td id=\"T_f3184_row0_col4\" class=\"data row0 col4\" >False</td>\n",
       "    </tr>\n",
       "    <tr>\n",
       "      <th id=\"T_f3184_level0_row1\" class=\"row_heading level0 row1\" >1</th>\n",
       "      <td id=\"T_f3184_row1_col0\" class=\"data row1 col0\" >How does Apple manage its business segments?</td>\n",
       "      <td id=\"T_f3184_row1_col1\" class=\"data row1 col1\" >Geographically, with segments including the Americas, Europe, Greater China, Japan, and Rest of Asia Pacific.</td>\n",
       "      <td id=\"T_f3184_row1_col2\" class=\"data row1 col2\" >['Payment Services\\n\\nThe Company offers payment services, including Apple Card®, a co-branded credit card, and Apple Pay®, a cashless payment service.\\n\\nSegments\\n\\nThe Company manages its business primarily...</td>\n",
       "      <td id=\"T_f3184_row1_col3\" class=\"data row1 col3\" >Geographically, with segments including the Americas, Europe, Greater China, Japan, and Rest of Asia Pacific.</td>\n",
       "      <td id=\"T_f3184_row1_col4\" class=\"data row1 col4\" >✔️ [True]</td>\n",
       "    </tr>\n",
       "    <tr>\n",
       "      <th id=\"T_f3184_level0_row2\" class=\"row_heading level0 row2\" >2</th>\n",
       "      <td id=\"T_f3184_row2_col0\" class=\"data row2 col0\" >What are the key components of Apple's competitive strategy?</td>\n",
       "      <td id=\"T_f3184_row2_col1\" class=\"data row2 col1\" >Innovation, product quality, strong ecosystem, marketing, distribution, and service and support offerings.</td>\n",
       "      <td id=\"T_f3184_row2_col2\" class=\"data row2 col2\" >['Many of the Company’s competitors seek to compete primarily through aggressive pricing and very low cost structures, and by imitating the\\nCompany’s products and infringing on...</td>\n",
       "      <td id=\"T_f3184_row2_col3\" class=\"data row2 col3\" >Innovation, product quality, strong ecosystem, marketing, distribution, and service and support offerings.</td>\n",
       "      <td id=\"T_f3184_row2_col4\" class=\"data row2 col4\" >✔️ [True]</td>\n",
       "    </tr>\n",
       "    <tr>\n",
       "      <th id=\"T_f3184_level0_row3\" class=\"row_heading level0 row3\" >3</th>\n",
       "      <td id=\"T_f3184_row3_col0\" class=\"data row3 col0\" >How does seasonality affect Apple's net sales?</td>\n",
       "      <td id=\"T_f3184_row3_col1\" class=\"data row3 col1\" >Higher in the first quarter due to seasonal holiday demand.</td>\n",
       "      <td id=\"T_f3184_row3_col2\" class=\"data row3 col2\" >['Apple Inc. | 2023 Form 10-K | 3\\n\\nBusiness Seasonality and Product Introductions\\n\\nThe Company has historically experienced higher net sales in its first quarter compared to...</td>\n",
       "      <td id=\"T_f3184_row3_col3\" class=\"data row3 col3\" >Higher in the first quarter due to seasonal holiday demand.</td>\n",
       "      <td id=\"T_f3184_row3_col4\" class=\"data row3 col4\" >✔️ [True]</td>\n",
       "    </tr>\n",
       "    <tr>\n",
       "      <th id=\"T_f3184_level0_row4\" class=\"row_heading level0 row4\" >4</th>\n",
       "      <td id=\"T_f3184_row4_col0\" class=\"data row4 col0\" >How many employees does Apple have?</td>\n",
       "      <td id=\"T_f3184_row4_col1\" class=\"data row4 col1\" >Approximately 161,000 full-time equivalent employees as of September 30, 2023.</td>\n",
       "      <td id=\"T_f3184_row4_col2\" class=\"data row4 col2\" >['Therefore, the Company accounts for all third-party application–related sales on a net basis by recognizing in Services net sales only the commission it retains.\\n\\nApple Inc....</td>\n",
       "      <td id=\"T_f3184_row4_col3\" class=\"data row4 col3\" >Approximately 161,000 full-time equivalent employees as of September 30, 2023.</td>\n",
       "      <td id=\"T_f3184_row4_col4\" class=\"data row4 col4\" >✔️ [True]</td>\n",
       "    </tr>\n",
       "  </tbody>\n",
       "</table>\n"
      ],
      "text/plain": [
       "<pandas.io.formats.style.Styler at 0x16329a400>"
      ]
     },
     "metadata": {},
     "output_type": "display_data"
    },
    {
     "data": {
      "text/html": [
       "\n",
       "                <div style='\n",
       "                    text-align: center;\n",
       "                    font-size: 16px;\n",
       "                    font-weight: bold;\n",
       "                    color: #555;\n",
       "                    margin: 10px 0;'>\n",
       "                    ... 5 more rows not displayed ...\n",
       "                </div>\n",
       "                "
      ],
      "text/plain": [
       "<IPython.core.display.HTML object>"
      ]
     },
     "metadata": {},
     "output_type": "display_data"
    },
    {
     "data": {
      "text/plain": [
       "90.0"
      ]
     },
     "execution_count": 22,
     "metadata": {},
     "output_type": "execute_result"
    }
   ],
   "source": [
    "from dspy.evaluate.evaluate import Evaluate\n",
    "\n",
    "# Set up the `evaluate_on_hotpotqa` function. We'll use this many times below.\n",
    "evaluate_on_apple = Evaluate(devset=apple_example_set, num_threads=1, display_progress=True, display_table=5)\n",
    "\n",
    "# Evaluate the `compiled_rag` program with the `answer_exact_match` metric.\n",
    "metric = dspy.evaluate.answer_exact_match\n",
    "evaluate_on_apple(compiled_rag, metric=metric)"
   ]
  },
  {
   "cell_type": "markdown",
   "metadata": {},
   "source": [
    "##### Evaluating the Retrieval\n",
    "\n",
    "It may also be instructive to look at the accuracy of retrieval. There are multiple ways to do this. Often, we can just check whether the retrieved passages contain the answer.\n",
    "\n",
    "That said, since our dev set includes the gold titles that should be retrieved, we can just use these here."
   ]
  },
  {
   "cell_type": "code",
   "execution_count": null,
   "metadata": {},
   "outputs": [],
   "source": [
    "def gold_passages_retrieved(example, pred, trace=None):\n",
    "    gold_titles = apple_example_set(map(dspy.evaluate.normalize_text, example['gold_titles']))\n",
    "    found_titles = apple_example_set(map(dspy.evaluate.normalize_text, [c.split(' | ')[0] for c in pred.context]))\n",
    "\n",
    "    return gold_titles.issubset(found_titles)\n",
    "\n",
    "compiled_rag_retrieval_score = evaluate_on_hotpotqa(compiled_rag, metric=gold_passages_retrieved)"
   ]
  },
  {
   "cell_type": "markdown",
   "metadata": {},
   "source": [
    "Although this simple `compiled_rag` program is able to answer a decent fraction of the questions correctly (on this tiny set, over 40%), the quality of retrieval is much lower.\n",
    "\n",
    "This potentially suggests that the LM is often relying on the knowledge it memorized during training to answer questions. To address this weak retrieval, let's explore a second program that involves more advanced search behavior."
   ]
  },
  {
   "cell_type": "markdown",
   "metadata": {},
   "source": [
    "### 5] Program 2: Multi-Hop Search (“Baleen”)\n",
    "\n",
    "From exploring the harder questions in the training/dev sets, it becomes clear that a single search query is often not enough for this task. For instance, this can be seen when a question ask about, say, the birth city of the writer of \"Right Back At It Again\". A search query identifies the author correctly as \"Jeremy McKinnon\", but it wouldn't figure out when he was born.\n",
    "\n",
    "The standard approach for this challenge in the retrieval-augmented NLP literature is to build multi-hop search systems, like GoldEn (Qi et al., 2019) and Baleen (Khattab et al., 2021). These systems read the retrieved results and then generate additional queries to gather additional information if necessary. Using **DSPy**, we can easily simulate such systems in a few lines of code.\n",
    "\n",
    "\n",
    "We'll still use the `GenerateAnswer` signature from the RAG implementation above. All we need now is a **signature** for the \"hop\" behavior: taking some partial context and a question, generate a search query to find missing information."
   ]
  },
  {
   "cell_type": "code",
   "execution_count": 23,
   "metadata": {},
   "outputs": [],
   "source": [
    "class GenerateSearchQuery(dspy.Signature):\n",
    "    \"\"\"Write a simple search query that will help answer a complex question.\"\"\"\n",
    "\n",
    "    context = dspy.InputField(desc=\"may contain relevant facts\")\n",
    "    question = dspy.InputField()\n",
    "    query = dspy.OutputField()"
   ]
  },
  {
   "cell_type": "markdown",
   "metadata": {},
   "source": [
    "Note: We could have written `context = GenerateAnswer.signature.context` to avoid duplicating the description of the `context` field.\n",
    "\n",
    "Now, let's define the program itself `SimplifiedBaleen`. There are many possible ways to implement this, but we'll keep this version down to the key elements for simplicity."
   ]
  },
  {
   "cell_type": "code",
   "execution_count": 24,
   "metadata": {},
   "outputs": [],
   "source": [
    "from dsp.utils import deduplicate\n",
    "\n",
    "class SimplifiedBaleen(dspy.Module):\n",
    "    def __init__(self, passages_per_hop=3, max_hops=2):\n",
    "        super().__init__()\n",
    "\n",
    "        self.generate_query = [dspy.ChainOfThought(GenerateSearchQuery) for _ in range(max_hops)]\n",
    "        self.retrieve = dspy.Retrieve(k=passages_per_hop)\n",
    "        self.generate_answer = dspy.ChainOfThought(GenerateAnswer)\n",
    "        self.max_hops = max_hops\n",
    "    \n",
    "    def forward(self, question):\n",
    "        context = []\n",
    "        \n",
    "        for hop in range(self.max_hops):\n",
    "            query = self.generate_query[hop](context=context, question=question).query\n",
    "            passages = self.retrieve(query).passages\n",
    "            context = deduplicate(context + passages)\n",
    "\n",
    "        pred = self.generate_answer(context=context, question=question)\n",
    "        return dspy.Prediction(context=context, answer=pred.answer)"
   ]
  },
  {
   "cell_type": "markdown",
   "metadata": {},
   "source": [
    "As we can see, the `__init__` method defines a few key sub-modules:\n",
    "\n",
    "- **generate_query**: For each hop, we will have one `dspy.ChainOfThought` predictor with the `GenerateSearchQuery` signature.\n",
    "- **retrieve**: This module will do the actual search, using the generated queries.\n",
    "- **generate_answer**: This `dspy.Predict` module will be used after all the search steps. It has a `GenerateAnswer`, to actually produce an answer.\n",
    "\n",
    "The `forward` method uses these sub-modules in simple control flow.\n",
    "\n",
    "1. First, we'll loop up to `self.max_hops` times.\n",
    "1. In each iteration, we'll generate a search query using the predictor at `self.generate_query[hop]`.\n",
    "1. We'll retrieve the top-k passages using that query.\n",
    "1. We'll add the (deduplicated) passages to our accumulator of `context`.\n",
    "1. After the loop, we'll use `self.generate_answer` to produce an answer.\n",
    "1. We'll return a prediction with the retrieved `context` and predicted `answer`."
   ]
  },
  {
   "cell_type": "markdown",
   "metadata": {},
   "source": [
    "##### Inspect the zero-shot version of the Baleen program\n",
    "\n",
    "We will also compile this program shortly. But, before that, we can try it out in a \"zero-shot\" setting (i.e., without any compilation).\n",
    "\n",
    "Using a program in zero-shot (uncompiled) setting doesn't mean that quality will be bad. It just means that we're bottlenecked directly by the reliability of the underlying LM to understand our sub-tasks from minimal instructions.\n",
    "\n",
    "This is often just fine when using the most expensive/powerful models (e.g., GPT-4) on the easiest and most standard tasks (e.g., answering simple questions about popular entities).\n",
    "\n",
    "However, a zero-shot approach quickly falls short for more specialized tasks, for novel domains/settings, and for more efficient (or open) models. **DSPy** can help you in all of these settings."
   ]
  },
  {
   "cell_type": "code",
   "execution_count": 25,
   "metadata": {},
   "outputs": [
    {
     "name": "stdout",
     "output_type": "stream",
     "text": [
      "Question: * What new products did apple release in each of the quarter this year? List the result as bullet points\n",
      "Predicted Answer: - First Quarter 2023: iPad, iPad Pro, Next-generation Apple TV 4K, MLS Season Pass\n",
      "- Second Quarter 2023: MacBook Pro 14”, MacBook Pro 16”, Mac mini, Second-generation HomePod\n",
      "- Third Quarter 2023: MacBook Air 15”, Mac Studio, Mac Pro, Apple Vision Pro™, iOS 17\n",
      "Retrieved Contexts (truncated): ['Significant announcements during fiscal year 2023\\nincluded the following:\\n\\nFirst Quarter 2023:\\n\\n• iPad and iPad Pro;\\n• Next-generation Apple TV 4K; and\\n• MLS Season Pass, a Major League Soccer subscri...', 'Third Quarter 2023:\\n\\n• MacBook Air 15”, Mac Studio and Mac Pro;\\n• Apple Vision Pro™, the Company’s first spatial computer featuring its new visionOS™, expected to be available in early calendar year 2...', 'The Company’s total net sales decreased 3% or $11.0 billion during 2023 compared to 2022.\\n\\nThe weakness in foreign currencies relative to the U.S. dollar\\naccounted for more than the entire year-over-y...']\n"
     ]
    }
   ],
   "source": [
    "# Ask any question you like to this simple RAG program.\n",
    "my_question = \"* What new products did apple release in each of the quarter this year? List the result as bullet points\"\n",
    "\n",
    "# Get the prediction. This contains `pred.context` and `pred.answer`.\n",
    "uncompiled_baleen = SimplifiedBaleen()  # uncompiled (i.e., zero-shot) program\n",
    "pred = uncompiled_baleen(my_question)\n",
    "\n",
    "# Print the contexts and the answer.\n",
    "print(f\"Question: {my_question}\")\n",
    "print(f\"Predicted Answer: {pred.answer}\")\n",
    "print(f\"Retrieved Contexts (truncated): {[c[:200] + '...' for c in pred.context]}\")"
   ]
  },
  {
   "cell_type": "markdown",
   "metadata": {},
   "source": [
    "Let's inspect the last **three** calls to the LM (i.e., generating the first hop's query, generating the second hop's query, and generating the answer)."
   ]
  },
  {
   "cell_type": "code",
   "execution_count": 26,
   "metadata": {},
   "outputs": [
    {
     "name": "stdout",
     "output_type": "stream",
     "text": [
      "\n",
      "\n",
      "\n",
      "\n",
      "Write a simple search query that will help answer a complex question.\n",
      "\n",
      "---\n",
      "\n",
      "Follow the following format.\n",
      "\n",
      "Context: may contain relevant facts\n",
      "\n",
      "Question: ${question}\n",
      "\n",
      "Reasoning: Let's think step by step in order to ${produce the query}. We ...\n",
      "\n",
      "Query: ${query}\n",
      "\n",
      "---\n",
      "\n",
      "Context:\n",
      "[1] «Significant announcements during fiscal year 2023\n",
      "included the following:\n",
      "\n",
      "First Quarter 2023:\n",
      "\n",
      "• iPad and iPad Pro;\n",
      "• Next-generation Apple TV 4K; and\n",
      "• MLS Season Pass, a Major League Soccer subscription streaming service.\n",
      "\n",
      "Second Quarter 2023:\n",
      "\n",
      "• MacBook Pro 14”, MacBook Pro 16” and Mac mini; and\n",
      "• Second-generation HomePod.\n",
      "\n",
      "Third Quarter 2023:\n",
      "\n",
      "• MacBook Air 15”, Mac Studio and Mac Pro;\n",
      "• Apple Vision Pro™, the Company’s first spatial computer featuring its new visionOS™, expected to be available in early calendar year 2024; and\n",
      "• iOS 17, macOS Sonoma, iPadOS 17, tvOS 17 and watchOS 10, updates to the Company’s operating systems.\n",
      "\n",
      "Fourth Quarter 2023:»\n",
      "[2] «Third Quarter 2023:\n",
      "\n",
      "• MacBook Air 15”, Mac Studio and Mac Pro;\n",
      "• Apple Vision Pro™, the Company’s first spatial computer featuring its new visionOS™, expected to be available in early calendar year 2024; and\n",
      "• iOS 17, macOS Sonoma, iPadOS 17, tvOS 17 and watchOS 10, updates to the Company’s operating systems.\n",
      "\n",
      "Fourth Quarter 2023:\n",
      "\n",
      "• iPhone 15, iPhone 15 Plus, iPhone 15 Pro and iPhone 15 Pro Max; and\n",
      "• Apple Watch Series 9 and Apple Watch Ultra 2.»\n",
      "[3] «The Company’s total net sales decreased 3% or $11.0 billion during 2023 compared to 2022.\n",
      "\n",
      "The weakness in foreign currencies relative to the U.S. dollar\n",
      "accounted for more than the entire year-over-year decrease in total net sales, which consisted primarily of lower net sales of Mac and iPhone, partially offset by\n",
      "higher net sales of Services.\n",
      "\n",
      "The Company announces new product, service and software offerings at various times during the year. Significant announcements during fiscal year 2023\n",
      "included the following:\n",
      "\n",
      "First Quarter 2023:\n",
      "\n",
      "• iPad and iPad Pro;\n",
      "• Next-generation Apple TV 4K; and\n",
      "• MLS Season Pass, a Major League Soccer subscription streaming service.\n",
      "\n",
      "Second Quarter 2023:\n",
      "\n",
      "• MacBook Pro 14”, MacBook Pro 16” and Mac mini; and\n",
      "• Second-generation HomePod.\n",
      "\n",
      "Third Quarter 2023:»\n",
      "\n",
      "Question: * What new products did apple release in each of the quarter this year? List the result as bullet points\n",
      "\n",
      "Reasoning: Let's think step by step in order to\u001b[32m produce the query. We know that the context provides information on the significant announcements made by Apple during each quarter of fiscal year 2023. By extracting this information, we can create a search query to identify the new products released by Apple in each quarter.\n",
      "\n",
      "Query: \"Apple new product releases fiscal year 2023 by quarter\"\u001b[0m\n",
      "\n",
      "\n",
      "\n",
      "\n",
      "\n",
      "\n",
      "\n",
      "Answer questions with short factoid answers.\n",
      "\n",
      "---\n",
      "\n",
      "Follow the following format.\n",
      "\n",
      "Context: may contain relevant facts\n",
      "\n",
      "Question: ${question}\n",
      "\n",
      "Reasoning: Let's think step by step in order to ${produce the answer}. We ...\n",
      "\n",
      "Answer: often between 1 and 5 words\n",
      "\n",
      "---\n",
      "\n",
      "Context:\n",
      "[1] «Significant announcements during fiscal year 2023\n",
      "included the following:\n",
      "\n",
      "First Quarter 2023:\n",
      "\n",
      "• iPad and iPad Pro;\n",
      "• Next-generation Apple TV 4K; and\n",
      "• MLS Season Pass, a Major League Soccer subscription streaming service.\n",
      "\n",
      "Second Quarter 2023:\n",
      "\n",
      "• MacBook Pro 14”, MacBook Pro 16” and Mac mini; and\n",
      "• Second-generation HomePod.\n",
      "\n",
      "Third Quarter 2023:\n",
      "\n",
      "• MacBook Air 15”, Mac Studio and Mac Pro;\n",
      "• Apple Vision Pro™, the Company’s first spatial computer featuring its new visionOS™, expected to be available in early calendar year 2024; and\n",
      "• iOS 17, macOS Sonoma, iPadOS 17, tvOS 17 and watchOS 10, updates to the Company’s operating systems.\n",
      "\n",
      "Fourth Quarter 2023:»\n",
      "[2] «Third Quarter 2023:\n",
      "\n",
      "• MacBook Air 15”, Mac Studio and Mac Pro;\n",
      "• Apple Vision Pro™, the Company’s first spatial computer featuring its new visionOS™, expected to be available in early calendar year 2024; and\n",
      "• iOS 17, macOS Sonoma, iPadOS 17, tvOS 17 and watchOS 10, updates to the Company’s operating systems.\n",
      "\n",
      "Fourth Quarter 2023:\n",
      "\n",
      "• iPhone 15, iPhone 15 Plus, iPhone 15 Pro and iPhone 15 Pro Max; and\n",
      "• Apple Watch Series 9 and Apple Watch Ultra 2.»\n",
      "[3] «The Company’s total net sales decreased 3% or $11.0 billion during 2023 compared to 2022.\n",
      "\n",
      "The weakness in foreign currencies relative to the U.S. dollar\n",
      "accounted for more than the entire year-over-year decrease in total net sales, which consisted primarily of lower net sales of Mac and iPhone, partially offset by\n",
      "higher net sales of Services.\n",
      "\n",
      "The Company announces new product, service and software offerings at various times during the year. Significant announcements during fiscal year 2023\n",
      "included the following:\n",
      "\n",
      "First Quarter 2023:\n",
      "\n",
      "• iPad and iPad Pro;\n",
      "• Next-generation Apple TV 4K; and\n",
      "• MLS Season Pass, a Major League Soccer subscription streaming service.\n",
      "\n",
      "Second Quarter 2023:\n",
      "\n",
      "• MacBook Pro 14”, MacBook Pro 16” and Mac mini; and\n",
      "• Second-generation HomePod.\n",
      "\n",
      "Third Quarter 2023:»\n",
      "\n",
      "Question: * What new products did apple release in each of the quarter this year? List the result as bullet points\n",
      "\n",
      "Reasoning: Let's think step by step in order to\u001b[32m Answer: \n",
      "- First Quarter 2023: iPad, iPad Pro, Next-generation Apple TV 4K, MLS Season Pass\n",
      "- Second Quarter 2023: MacBook Pro 14”, MacBook Pro 16”, Mac mini, Second-generation HomePod\n",
      "- Third Quarter 2023: MacBook Air 15”, Mac Studio, Mac Pro, Apple Vision Pro™, iOS 17, macOS Sonoma, iPadOS 17, tvOS 17, watchOS 10\n",
      "- Fourth Quarter 2023: iPhone 15, iPhone 15 Plus, iPhone 15 Pro, iPhone 15 Pro Max, Apple Watch Series 9, Apple Watch Ultra 2\u001b[0m\n",
      "\n",
      "\n",
      "\n",
      "\n",
      "\n",
      "\n",
      "\n",
      "Answer questions with short factoid answers.\n",
      "\n",
      "---\n",
      "\n",
      "Follow the following format.\n",
      "\n",
      "Context: may contain relevant facts\n",
      "\n",
      "Question: ${question}\n",
      "\n",
      "Reasoning: Let's think step by step in order to ${produce the answer}. We ...\n",
      "\n",
      "Answer: often between 1 and 5 words\n",
      "\n",
      "---\n",
      "\n",
      "Context:\n",
      "[1] «Significant announcements during fiscal year 2023\n",
      "included the following:\n",
      "\n",
      "First Quarter 2023:\n",
      "\n",
      "• iPad and iPad Pro;\n",
      "• Next-generation Apple TV 4K; and\n",
      "• MLS Season Pass, a Major League Soccer subscription streaming service.\n",
      "\n",
      "Second Quarter 2023:\n",
      "\n",
      "• MacBook Pro 14”, MacBook Pro 16” and Mac mini; and\n",
      "• Second-generation HomePod.\n",
      "\n",
      "Third Quarter 2023:\n",
      "\n",
      "• MacBook Air 15”, Mac Studio and Mac Pro;\n",
      "• Apple Vision Pro™, the Company’s first spatial computer featuring its new visionOS™, expected to be available in early calendar year 2024; and\n",
      "• iOS 17, macOS Sonoma, iPadOS 17, tvOS 17 and watchOS 10, updates to the Company’s operating systems.\n",
      "\n",
      "Fourth Quarter 2023:»\n",
      "[2] «Third Quarter 2023:\n",
      "\n",
      "• MacBook Air 15”, Mac Studio and Mac Pro;\n",
      "• Apple Vision Pro™, the Company’s first spatial computer featuring its new visionOS™, expected to be available in early calendar year 2024; and\n",
      "• iOS 17, macOS Sonoma, iPadOS 17, tvOS 17 and watchOS 10, updates to the Company’s operating systems.\n",
      "\n",
      "Fourth Quarter 2023:\n",
      "\n",
      "• iPhone 15, iPhone 15 Plus, iPhone 15 Pro and iPhone 15 Pro Max; and\n",
      "• Apple Watch Series 9 and Apple Watch Ultra 2.»\n",
      "[3] «The Company’s total net sales decreased 3% or $11.0 billion during 2023 compared to 2022.\n",
      "\n",
      "The weakness in foreign currencies relative to the U.S. dollar\n",
      "accounted for more than the entire year-over-year decrease in total net sales, which consisted primarily of lower net sales of Mac and iPhone, partially offset by\n",
      "higher net sales of Services.\n",
      "\n",
      "The Company announces new product, service and software offerings at various times during the year. Significant announcements during fiscal year 2023\n",
      "included the following:\n",
      "\n",
      "First Quarter 2023:\n",
      "\n",
      "• iPad and iPad Pro;\n",
      "• Next-generation Apple TV 4K; and\n",
      "• MLS Season Pass, a Major League Soccer subscription streaming service.\n",
      "\n",
      "Second Quarter 2023:\n",
      "\n",
      "• MacBook Pro 14”, MacBook Pro 16” and Mac mini; and\n",
      "• Second-generation HomePod.\n",
      "\n",
      "Third Quarter 2023:»\n",
      "\n",
      "Question: * What new products did apple release in each of the quarter this year? List the result as bullet points\n",
      "\n",
      "Reasoning: Let's think step by step in order to Answer: - First Quarter 2023: iPad, iPad Pro, Next-generation Apple TV 4K, MLS Season Pass - Second Quarter 2023: MacBook Pro 14”, MacBook Pro 16”, Mac mini, Second-generation HomePod - Third Quarter 2023: MacBook Air 15”, Mac Studio, Mac Pro, Apple Vision Pro™, iOS 17, macOS Sonoma, iPadOS 17, tvOS 17, watchOS 10 - Fourth Quarter 2023: iPhone 15, iPhone 15 Plus, iPhone 15 Pro, iPhone 15 Pro Max, Apple Watch Series 9, Apple Watch Ultra 2\n",
      "\n",
      "Answer:\u001b[32m - First Quarter 2023: iPad, iPad Pro, Next-generation Apple TV 4K, MLS Season Pass\n",
      "- Second Quarter 2023: MacBook Pro 14”, MacBook Pro 16”, Mac mini, Second-generation HomePod\n",
      "- Third Quarter 2023: MacBook Air 15”, Mac Studio, Mac Pro, Apple Vision Pro™, iOS 17\u001b[0m\n",
      "\n",
      "\n",
      "\n"
     ]
    }
   ],
   "source": [
    "turbo.inspect_history(n=3)"
   ]
  },
  {
   "cell_type": "markdown",
   "metadata": {},
   "source": [
    "##### Compiling the Baleen program\n",
    "\n",
    "Now is the time to compile our multi-hop (`SimplifiedBaleen`) program.\n",
    "\n",
    "We will first define our validation logic, which will simply require that:\n",
    "\n",
    "- The predicted answer matches the gold answer.\n",
    "- The retrieved context contains the gold answer.\n",
    "- None of the generated queries is rambling (i.e., none exceeds 100 characters in length).\n",
    "- None of the generated queries is roughly repeated (i.e., none is within 0.8 or higher F1 score of earlier queries)."
   ]
  },
  {
   "cell_type": "code",
   "execution_count": null,
   "metadata": {},
   "outputs": [],
   "source": [
    "def validate_context_and_answer_and_hops(example, pred, trace=None):\n",
    "    if not dspy.evaluate.answer_exact_match(example, pred): return False\n",
    "    if not dspy.evaluate.answer_passage_match(example, pred): return False\n",
    "\n",
    "    hops = [example.question] + [outputs.query for *_, outputs in trace if 'query' in outputs]\n",
    "\n",
    "    if max([len(h) for h in hops]) > 100: return False\n",
    "    if any(dspy.evaluate.answer_exact_match_str(hops[idx], hops[:idx], frac=0.8) for idx in range(2, len(hops))): return False\n",
    "\n",
    "    return True"
   ]
  },
  {
   "cell_type": "markdown",
   "metadata": {},
   "source": [
    "Like we did for RAG, we'll use one of the most basic teleprompters in **DSPy**, namely, `BootstrapFewShot`."
   ]
  },
  {
   "cell_type": "code",
   "execution_count": null,
   "metadata": {},
   "outputs": [],
   "source": [
    "teleprompter = BootstrapFewShot(metric=validate_context_and_answer_and_hops)\n",
    "compiled_baleen = teleprompter.compile(SimplifiedBaleen(), teacher=SimplifiedBaleen(passages_per_hop=2), trainset=trainset)"
   ]
  },
  {
   "cell_type": "markdown",
   "metadata": {},
   "source": [
    "##### Evaluating the Retrieval\n",
    "\n",
    "Earlier, it appeared like our simple RAG program was not very effective at finding all evidence required for answering each question. Is this resolved by the adding some extra steps in the `forward` function of `SimplifiedBaleen`? What about compiling, does it help for that? \n",
    "\n",
    "The answer for these questions is not always going to be obvious. However, **DSPy** makes it extremely easy to try many diverse approaches with minimal effort.\n",
    "\n",
    "Let's evaluate the quality of retrieval of our compiled and uncompiled Baleen pipelines!"
   ]
  },
  {
   "cell_type": "code",
   "execution_count": null,
   "metadata": {},
   "outputs": [],
   "source": [
    "uncompiled_baleen_retrieval_score = evaluate_on_hotpotqa(uncompiled_baleen, metric=gold_passages_retrieved, display=False)"
   ]
  },
  {
   "cell_type": "code",
   "execution_count": null,
   "metadata": {},
   "outputs": [],
   "source": [
    "compiled_baleen_retrieval_score = evaluate_on_hotpotqa(compiled_baleen, metric=gold_passages_retrieved)"
   ]
  },
  {
   "cell_type": "code",
   "execution_count": null,
   "metadata": {},
   "outputs": [],
   "source": [
    "print(f\"## Retrieval Score for RAG: {compiled_rag_retrieval_score}\")  # note that for RAG, compilation has no effect on the retrieval step\n",
    "print(f\"## Retrieval Score for uncompiled Baleen: {uncompiled_baleen_retrieval_score}\")\n",
    "print(f\"## Retrieval Score for compiled Baleen: {compiled_baleen_retrieval_score}\")"
   ]
  },
  {
   "cell_type": "markdown",
   "metadata": {},
   "source": [
    "Excellent! There might be something to this compiled, multi-hop program then. But this is far from all you can do: **DSPy** gives you a clean space of composable operators to deal with any shortcomings you see.\n",
    "\n",
    "We can inspect a few concrete examples. If we see failure causes, we can:\n",
    "\n",
    "1. Expand our pipeline by using additional sub-modules (e.g., maybe summarize after retrieval?)\n",
    "1. Modify our pipeline by using more complex logic (e.g., maybe we need to break out of the multi-hop loop if we found all information we need?) \n",
    "1. Refine our validation logic (e.g., maybe use a metric that use a second **DSPy** program to do the answer evaluation, instead of relying on strict string matching)\n",
    "1. Use a different teleprompter to optimize your pipeline more aggressively.\n",
    "1. Add more or better training examples!\n",
    "\n",
    "\n",
    "Or, if you really want, we can tweak the descriptions in the Signatures we use in your program to make them more precisely suited for their sub-tasks. This is akin to prompt engineering and should be a final resort, given the other powerful options that **DSPy** gives us!"
   ]
  },
  {
   "cell_type": "code",
   "execution_count": null,
   "metadata": {},
   "outputs": [],
   "source": [
    "compiled_baleen(\"How many storeys are in the castle that David Gregory inherited?\")\n",
    "turbo.inspect_history(n=3)"
   ]
  }
 ],
 "metadata": {
  "kernelspec": {
   "display_name": "Python 3 (ipykernel)",
   "language": "python",
   "name": "python3"
  },
  "language_info": {
   "codemirror_mode": {
    "name": "ipython",
    "version": 3
   },
   "file_extension": ".py",
   "mimetype": "text/x-python",
   "name": "python",
   "nbconvert_exporter": "python",
   "pygments_lexer": "ipython3",
   "version": "3.9.18"
  }
 },
 "nbformat": 4,
 "nbformat_minor": 4
}
